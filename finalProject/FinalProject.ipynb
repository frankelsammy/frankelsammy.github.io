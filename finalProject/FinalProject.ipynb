{
 "cells": [
  {
   "cell_type": "markdown",
   "id": "productive-contact",
   "metadata": {},
   "source": [
    "## What Does It Take To Be an NBA All-Star? \n",
    "## A Data Science Analysis\n",
    "## Samuel Frankel"
   ]
  },
  {
   "cell_type": "markdown",
   "id": "broken-summer",
   "metadata": {},
   "source": [
    "Ever since 1951, the NBA All-Star game has occurred annually. Twenty-four of the best players in the NBA are selected, by a mix of fan voting and head coaches, to compete in this prestigious game. (There can end up being more than 24, due to injuries). Each year, as the teams are announced, there is an abundance of discussion regarding the choices. Why did this player make it over this player? Why was this player chosen?I think that if we can look at the analytics behind which players are selected and which are left out, we can better understand the process, as well as make predictions on who will make it before the teams are even announced. \n",
    "\n",
    "The goal for this project is to create a model for predicting which players will be selected to the All Star team. We will collect players statistics from the past 10 years (2009-10 season until 2019-20 season), and look at which players made the all star teams which years, and use this to create a decision tree. The decision tree will be able to predict how likely a player is to be selected to the all star team based on their statistics. We will be analyzing our results throughout the project, to see where we can improve to get as accurate of a model as possible. "
   ]
  },
  {
   "source": [
    "## Step 1: Getting the Data"
   ],
   "cell_type": "markdown",
   "metadata": {}
  },
  {
   "source": [
    "First we will import the libraries we will need to do our analysis. We will use pandas, in order to create dataframes, re to do regular expression operations, and statsmodels to do statistical analysis."
   ],
   "cell_type": "markdown",
   "metadata": {}
  },
  {
   "cell_type": "code",
   "execution_count": 251,
   "id": "generic-chuck",
   "metadata": {},
   "outputs": [],
   "source": [
    "import pandas as pd\n",
    "import re\n",
    "import statsmodels.api as sm\n",
    "import statsmodels.formula.api as smf\n"
   ]
  },
  {
   "source": [
    "Now, we are going to create a dataframe with all the NBA players stats for each year from 2010-2020. To get the stats, go to https://www.basketball-reference.com/leagues/NBA_2022_per_game.html. This website has all the NBA stats for every season in NBA history. On the table, click \"share and export\" and export as csv. Copy the table. Next, in either Excel or Numbers, paste the table, and export it as a csv into your project folder.\n",
    "\n",
    "Now, using Pandas, we will read the data into a dataframe. A dataframe is a two-dimensional table, with relational data. To learn more about pandas dataframes, see https://pandas.pydata.org/pandas-docs/stable/user_guide/dsintro.html#:~:text=to%20different%20objects.-,DataFrame,most%20commonly%20used%20pandas%20object. \n",
    "\n",
    "Below you will see how read in the 2010 NBA data into a dataframe: "
   ],
   "cell_type": "markdown",
   "metadata": {}
  },
  {
   "cell_type": "code",
   "execution_count": 252,
   "metadata": {},
   "outputs": [
    {
     "output_type": "execute_result",
     "data": {
      "text/plain": [
       "      Rk                       Player Pos  Age   Tm   G  GS    MP   FG   FGA  \\\n",
       "0      1      Arron Afflalo\\afflaar01  SG   24  DEN  82  75  27.1  3.3   7.1   \n",
       "1      2      Alexis Ajinça\\ajincal01   C   21  CHA   6   0   5.0  0.8   1.7   \n",
       "2      3  LaMarcus Aldridge\\aldrila01  PF   24  POR  78  78  37.5  7.4  15.0   \n",
       "3      4      Joe Alexander\\alexajo01  SF   23  CHI   8   0   3.6  0.1   0.8   \n",
       "4      5        Malik Allen\\allenma01  PF   31  DEN  51   3   8.9  0.9   2.3   \n",
       "..   ...                          ...  ..  ...  ...  ..  ..   ...  ...   ...   \n",
       "573  438      Dorell Wright\\wrighdo01  SF   24  MIA  72   1  20.8  2.7   5.8   \n",
       "574  439      Julian Wright\\wrighju01  SF   22  NOH  68  14  12.8  1.7   3.4   \n",
       "575  440         Nick Young\\youngni01  SG   24  WAS  74  23  19.2  3.1   7.5   \n",
       "576  441          Sam Young\\youngsa01  SF   24  MEM  80   1  16.5  2.8   6.2   \n",
       "577  442     Thaddeus Young\\youngth01  PF   21  PHI  67  45  32.0  5.7  12.1   \n",
       "\n",
       "     ...  ORB  DRB  TRB  AST  STL  BLK  TOV   PF   PTS  Year  \n",
       "0    ...  0.7  2.4  3.1  1.7  0.6  0.4  0.9  2.7   8.8  2010  \n",
       "1    ...  0.2  0.5  0.7  0.0  0.2  0.2  0.3  0.8   1.7  2010  \n",
       "2    ...  2.5  5.6  8.0  2.1  0.9  0.6  1.3  3.0  17.9  2010  \n",
       "3    ...  0.3  0.4  0.6  0.3  0.1  0.1  0.0  1.1   0.5  2010  \n",
       "4    ...  0.7  0.9  1.6  0.3  0.2  0.1  0.4  1.3   2.1  2010  \n",
       "..   ...  ...  ...  ...  ...  ...  ...  ...  ...   ...   ...  \n",
       "573  ...  0.7  2.6  3.3  1.3  0.7  0.4  0.7  1.3   7.1  2010  \n",
       "574  ...  0.9  1.3  2.1  0.6  0.4  0.3  0.6  0.7   3.8  2010  \n",
       "575  ...  0.3  1.1  1.4  0.6  0.4  0.1  0.8  2.0   8.6  2010  \n",
       "576  ...  1.0  1.6  2.5  0.7  0.4  0.3  1.2  1.3   7.4  2010  \n",
       "577  ...  1.9  3.3  5.2  1.4  1.2  0.2  1.9  2.0  13.8  2010  \n",
       "\n",
       "[578 rows x 31 columns]"
      ],
      "text/html": "<div>\n<style scoped>\n    .dataframe tbody tr th:only-of-type {\n        vertical-align: middle;\n    }\n\n    .dataframe tbody tr th {\n        vertical-align: top;\n    }\n\n    .dataframe thead th {\n        text-align: right;\n    }\n</style>\n<table border=\"1\" class=\"dataframe\">\n  <thead>\n    <tr style=\"text-align: right;\">\n      <th></th>\n      <th>Rk</th>\n      <th>Player</th>\n      <th>Pos</th>\n      <th>Age</th>\n      <th>Tm</th>\n      <th>G</th>\n      <th>GS</th>\n      <th>MP</th>\n      <th>FG</th>\n      <th>FGA</th>\n      <th>...</th>\n      <th>ORB</th>\n      <th>DRB</th>\n      <th>TRB</th>\n      <th>AST</th>\n      <th>STL</th>\n      <th>BLK</th>\n      <th>TOV</th>\n      <th>PF</th>\n      <th>PTS</th>\n      <th>Year</th>\n    </tr>\n  </thead>\n  <tbody>\n    <tr>\n      <th>0</th>\n      <td>1</td>\n      <td>Arron Afflalo\\afflaar01</td>\n      <td>SG</td>\n      <td>24</td>\n      <td>DEN</td>\n      <td>82</td>\n      <td>75</td>\n      <td>27.1</td>\n      <td>3.3</td>\n      <td>7.1</td>\n      <td>...</td>\n      <td>0.7</td>\n      <td>2.4</td>\n      <td>3.1</td>\n      <td>1.7</td>\n      <td>0.6</td>\n      <td>0.4</td>\n      <td>0.9</td>\n      <td>2.7</td>\n      <td>8.8</td>\n      <td>2010</td>\n    </tr>\n    <tr>\n      <th>1</th>\n      <td>2</td>\n      <td>Alexis Ajinça\\ajincal01</td>\n      <td>C</td>\n      <td>21</td>\n      <td>CHA</td>\n      <td>6</td>\n      <td>0</td>\n      <td>5.0</td>\n      <td>0.8</td>\n      <td>1.7</td>\n      <td>...</td>\n      <td>0.2</td>\n      <td>0.5</td>\n      <td>0.7</td>\n      <td>0.0</td>\n      <td>0.2</td>\n      <td>0.2</td>\n      <td>0.3</td>\n      <td>0.8</td>\n      <td>1.7</td>\n      <td>2010</td>\n    </tr>\n    <tr>\n      <th>2</th>\n      <td>3</td>\n      <td>LaMarcus Aldridge\\aldrila01</td>\n      <td>PF</td>\n      <td>24</td>\n      <td>POR</td>\n      <td>78</td>\n      <td>78</td>\n      <td>37.5</td>\n      <td>7.4</td>\n      <td>15.0</td>\n      <td>...</td>\n      <td>2.5</td>\n      <td>5.6</td>\n      <td>8.0</td>\n      <td>2.1</td>\n      <td>0.9</td>\n      <td>0.6</td>\n      <td>1.3</td>\n      <td>3.0</td>\n      <td>17.9</td>\n      <td>2010</td>\n    </tr>\n    <tr>\n      <th>3</th>\n      <td>4</td>\n      <td>Joe Alexander\\alexajo01</td>\n      <td>SF</td>\n      <td>23</td>\n      <td>CHI</td>\n      <td>8</td>\n      <td>0</td>\n      <td>3.6</td>\n      <td>0.1</td>\n      <td>0.8</td>\n      <td>...</td>\n      <td>0.3</td>\n      <td>0.4</td>\n      <td>0.6</td>\n      <td>0.3</td>\n      <td>0.1</td>\n      <td>0.1</td>\n      <td>0.0</td>\n      <td>1.1</td>\n      <td>0.5</td>\n      <td>2010</td>\n    </tr>\n    <tr>\n      <th>4</th>\n      <td>5</td>\n      <td>Malik Allen\\allenma01</td>\n      <td>PF</td>\n      <td>31</td>\n      <td>DEN</td>\n      <td>51</td>\n      <td>3</td>\n      <td>8.9</td>\n      <td>0.9</td>\n      <td>2.3</td>\n      <td>...</td>\n      <td>0.7</td>\n      <td>0.9</td>\n      <td>1.6</td>\n      <td>0.3</td>\n      <td>0.2</td>\n      <td>0.1</td>\n      <td>0.4</td>\n      <td>1.3</td>\n      <td>2.1</td>\n      <td>2010</td>\n    </tr>\n    <tr>\n      <th>...</th>\n      <td>...</td>\n      <td>...</td>\n      <td>...</td>\n      <td>...</td>\n      <td>...</td>\n      <td>...</td>\n      <td>...</td>\n      <td>...</td>\n      <td>...</td>\n      <td>...</td>\n      <td>...</td>\n      <td>...</td>\n      <td>...</td>\n      <td>...</td>\n      <td>...</td>\n      <td>...</td>\n      <td>...</td>\n      <td>...</td>\n      <td>...</td>\n      <td>...</td>\n      <td>...</td>\n    </tr>\n    <tr>\n      <th>573</th>\n      <td>438</td>\n      <td>Dorell Wright\\wrighdo01</td>\n      <td>SF</td>\n      <td>24</td>\n      <td>MIA</td>\n      <td>72</td>\n      <td>1</td>\n      <td>20.8</td>\n      <td>2.7</td>\n      <td>5.8</td>\n      <td>...</td>\n      <td>0.7</td>\n      <td>2.6</td>\n      <td>3.3</td>\n      <td>1.3</td>\n      <td>0.7</td>\n      <td>0.4</td>\n      <td>0.7</td>\n      <td>1.3</td>\n      <td>7.1</td>\n      <td>2010</td>\n    </tr>\n    <tr>\n      <th>574</th>\n      <td>439</td>\n      <td>Julian Wright\\wrighju01</td>\n      <td>SF</td>\n      <td>22</td>\n      <td>NOH</td>\n      <td>68</td>\n      <td>14</td>\n      <td>12.8</td>\n      <td>1.7</td>\n      <td>3.4</td>\n      <td>...</td>\n      <td>0.9</td>\n      <td>1.3</td>\n      <td>2.1</td>\n      <td>0.6</td>\n      <td>0.4</td>\n      <td>0.3</td>\n      <td>0.6</td>\n      <td>0.7</td>\n      <td>3.8</td>\n      <td>2010</td>\n    </tr>\n    <tr>\n      <th>575</th>\n      <td>440</td>\n      <td>Nick Young\\youngni01</td>\n      <td>SG</td>\n      <td>24</td>\n      <td>WAS</td>\n      <td>74</td>\n      <td>23</td>\n      <td>19.2</td>\n      <td>3.1</td>\n      <td>7.5</td>\n      <td>...</td>\n      <td>0.3</td>\n      <td>1.1</td>\n      <td>1.4</td>\n      <td>0.6</td>\n      <td>0.4</td>\n      <td>0.1</td>\n      <td>0.8</td>\n      <td>2.0</td>\n      <td>8.6</td>\n      <td>2010</td>\n    </tr>\n    <tr>\n      <th>576</th>\n      <td>441</td>\n      <td>Sam Young\\youngsa01</td>\n      <td>SF</td>\n      <td>24</td>\n      <td>MEM</td>\n      <td>80</td>\n      <td>1</td>\n      <td>16.5</td>\n      <td>2.8</td>\n      <td>6.2</td>\n      <td>...</td>\n      <td>1.0</td>\n      <td>1.6</td>\n      <td>2.5</td>\n      <td>0.7</td>\n      <td>0.4</td>\n      <td>0.3</td>\n      <td>1.2</td>\n      <td>1.3</td>\n      <td>7.4</td>\n      <td>2010</td>\n    </tr>\n    <tr>\n      <th>577</th>\n      <td>442</td>\n      <td>Thaddeus Young\\youngth01</td>\n      <td>PF</td>\n      <td>21</td>\n      <td>PHI</td>\n      <td>67</td>\n      <td>45</td>\n      <td>32.0</td>\n      <td>5.7</td>\n      <td>12.1</td>\n      <td>...</td>\n      <td>1.9</td>\n      <td>3.3</td>\n      <td>5.2</td>\n      <td>1.4</td>\n      <td>1.2</td>\n      <td>0.2</td>\n      <td>1.9</td>\n      <td>2.0</td>\n      <td>13.8</td>\n      <td>2010</td>\n    </tr>\n  </tbody>\n</table>\n<p>578 rows × 31 columns</p>\n</div>"
     },
     "metadata": {},
     "execution_count": 252
    }
   ],
   "source": [
    "data = pd.read_csv('NBA10.csv', sep=',')\n",
    "data['Year'] = 2010\n",
    "data"
   ]
  },
  {
   "source": [
    "As you can see, the above data contains 578 entries, one for each player in the NBA that season. If we have to do that for 10 seasons, the dataframe will be approximately 5000 entries, which would be way too huge to look at easily, and it would make operations very slow.  \n",
    "\n",
    "According to StatMuse.com, the last time a player made an NBA all star team with lower than 10 points per game was 2004, which is before our data. Therefore, to make things easier, we can drop all players who average less than 10 points per game. \n",
    "\n",
    "We will accomplish this with the following function: \n"
   ],
   "cell_type": "markdown",
   "metadata": {}
  },
  {
   "cell_type": "code",
   "execution_count": 253,
   "metadata": {},
   "outputs": [],
   "source": [
    "def drop_under_10(data):\n",
    "    for i,r in data.iterrows():\n",
    "        if (r['PTS'] < 10.0):\n",
    "            data = data.drop(i)\n",
    "    return data\n"
   ]
  },
  {
   "source": [
    "Now, we will apply it to our dataframe for 2010 NBA data."
   ],
   "cell_type": "markdown",
   "metadata": {}
  },
  {
   "cell_type": "code",
   "execution_count": 254,
   "metadata": {},
   "outputs": [
    {
     "output_type": "execute_result",
     "data": {
      "text/plain": [
       "      Rk                       Player Pos  Age   Tm   G  GS    MP    FG   FGA  \\\n",
       "2      3  LaMarcus Aldridge\\aldrila01  PF   24  POR  78  78  37.5   7.4  15.0   \n",
       "5      6         Ray Allen*\\allenra02  SG   34  BOS  80  80  35.2   5.8  12.2   \n",
       "15    14    Carmelo Anthony\\anthoca01  SF   25  DEN  69  69  38.2  10.0  21.8   \n",
       "17    16     Gilbert Arenas\\arenagi01  PG   28  WAS  32  32  36.5   7.9  19.3   \n",
       "18    17       Trevor Ariza\\arizatr01  SF   24  HOU  72  71  36.5   5.5  13.9   \n",
       "..   ...                          ...  ..  ...  ...  ..  ..   ...   ...   ...   \n",
       "565  430    Marvin Williams\\willima02  SF   23  ATL  81  81  30.5   3.7   8.2   \n",
       "566  431        Mo Williams\\willima01  PG   27  CLE  69  68  34.2   5.5  12.4   \n",
       "567  432    Reggie Williams\\willire02  SF   23  GSW  24  10  32.6   5.8  11.8   \n",
       "571  436  Metta World Peace\\artesro01  SF   30  LAL  77  77  33.8   4.0   9.6   \n",
       "577  442     Thaddeus Young\\youngth01  PF   21  PHI  67  45  32.0   5.7  12.1   \n",
       "\n",
       "     ...  ORB  DRB  TRB  AST  STL  BLK  TOV   PF   PTS  Year  \n",
       "2    ...  2.5  5.6  8.0  2.1  0.9  0.6  1.3  3.0  17.9  2010  \n",
       "5    ...  0.6  2.6  3.2  2.6  0.8  0.3  1.6  2.3  16.3  2010  \n",
       "15   ...  2.2  4.4  6.6  3.2  1.3  0.4  3.0  3.3  28.2  2010  \n",
       "17   ...  0.5  3.6  4.2  7.2  1.3  0.3  3.7  3.0  22.6  2010  \n",
       "18   ...  1.1  4.5  5.6  3.8  1.8  0.6  2.2  2.3  14.9  2010  \n",
       "..   ...  ...  ...  ...  ...  ...  ...  ...  ...   ...   ...  \n",
       "565  ...  1.3  3.8  5.1  1.1  0.8  0.6  0.9  2.0  10.1  2010  \n",
       "566  ...  0.4  2.6  3.0  5.3  1.0  0.3  2.5  2.5  15.8  2010  \n",
       "567  ...  0.8  3.8  4.6  2.8  1.0  0.3  1.2  2.0  15.2  2010  \n",
       "571  ...  1.3  3.0  4.3  3.0  1.4  0.3  1.6  2.1  11.0  2010  \n",
       "577  ...  1.9  3.3  5.2  1.4  1.2  0.2  1.9  2.0  13.8  2010  \n",
       "\n",
       "[179 rows x 31 columns]"
      ],
      "text/html": "<div>\n<style scoped>\n    .dataframe tbody tr th:only-of-type {\n        vertical-align: middle;\n    }\n\n    .dataframe tbody tr th {\n        vertical-align: top;\n    }\n\n    .dataframe thead th {\n        text-align: right;\n    }\n</style>\n<table border=\"1\" class=\"dataframe\">\n  <thead>\n    <tr style=\"text-align: right;\">\n      <th></th>\n      <th>Rk</th>\n      <th>Player</th>\n      <th>Pos</th>\n      <th>Age</th>\n      <th>Tm</th>\n      <th>G</th>\n      <th>GS</th>\n      <th>MP</th>\n      <th>FG</th>\n      <th>FGA</th>\n      <th>...</th>\n      <th>ORB</th>\n      <th>DRB</th>\n      <th>TRB</th>\n      <th>AST</th>\n      <th>STL</th>\n      <th>BLK</th>\n      <th>TOV</th>\n      <th>PF</th>\n      <th>PTS</th>\n      <th>Year</th>\n    </tr>\n  </thead>\n  <tbody>\n    <tr>\n      <th>2</th>\n      <td>3</td>\n      <td>LaMarcus Aldridge\\aldrila01</td>\n      <td>PF</td>\n      <td>24</td>\n      <td>POR</td>\n      <td>78</td>\n      <td>78</td>\n      <td>37.5</td>\n      <td>7.4</td>\n      <td>15.0</td>\n      <td>...</td>\n      <td>2.5</td>\n      <td>5.6</td>\n      <td>8.0</td>\n      <td>2.1</td>\n      <td>0.9</td>\n      <td>0.6</td>\n      <td>1.3</td>\n      <td>3.0</td>\n      <td>17.9</td>\n      <td>2010</td>\n    </tr>\n    <tr>\n      <th>5</th>\n      <td>6</td>\n      <td>Ray Allen*\\allenra02</td>\n      <td>SG</td>\n      <td>34</td>\n      <td>BOS</td>\n      <td>80</td>\n      <td>80</td>\n      <td>35.2</td>\n      <td>5.8</td>\n      <td>12.2</td>\n      <td>...</td>\n      <td>0.6</td>\n      <td>2.6</td>\n      <td>3.2</td>\n      <td>2.6</td>\n      <td>0.8</td>\n      <td>0.3</td>\n      <td>1.6</td>\n      <td>2.3</td>\n      <td>16.3</td>\n      <td>2010</td>\n    </tr>\n    <tr>\n      <th>15</th>\n      <td>14</td>\n      <td>Carmelo Anthony\\anthoca01</td>\n      <td>SF</td>\n      <td>25</td>\n      <td>DEN</td>\n      <td>69</td>\n      <td>69</td>\n      <td>38.2</td>\n      <td>10.0</td>\n      <td>21.8</td>\n      <td>...</td>\n      <td>2.2</td>\n      <td>4.4</td>\n      <td>6.6</td>\n      <td>3.2</td>\n      <td>1.3</td>\n      <td>0.4</td>\n      <td>3.0</td>\n      <td>3.3</td>\n      <td>28.2</td>\n      <td>2010</td>\n    </tr>\n    <tr>\n      <th>17</th>\n      <td>16</td>\n      <td>Gilbert Arenas\\arenagi01</td>\n      <td>PG</td>\n      <td>28</td>\n      <td>WAS</td>\n      <td>32</td>\n      <td>32</td>\n      <td>36.5</td>\n      <td>7.9</td>\n      <td>19.3</td>\n      <td>...</td>\n      <td>0.5</td>\n      <td>3.6</td>\n      <td>4.2</td>\n      <td>7.2</td>\n      <td>1.3</td>\n      <td>0.3</td>\n      <td>3.7</td>\n      <td>3.0</td>\n      <td>22.6</td>\n      <td>2010</td>\n    </tr>\n    <tr>\n      <th>18</th>\n      <td>17</td>\n      <td>Trevor Ariza\\arizatr01</td>\n      <td>SF</td>\n      <td>24</td>\n      <td>HOU</td>\n      <td>72</td>\n      <td>71</td>\n      <td>36.5</td>\n      <td>5.5</td>\n      <td>13.9</td>\n      <td>...</td>\n      <td>1.1</td>\n      <td>4.5</td>\n      <td>5.6</td>\n      <td>3.8</td>\n      <td>1.8</td>\n      <td>0.6</td>\n      <td>2.2</td>\n      <td>2.3</td>\n      <td>14.9</td>\n      <td>2010</td>\n    </tr>\n    <tr>\n      <th>...</th>\n      <td>...</td>\n      <td>...</td>\n      <td>...</td>\n      <td>...</td>\n      <td>...</td>\n      <td>...</td>\n      <td>...</td>\n      <td>...</td>\n      <td>...</td>\n      <td>...</td>\n      <td>...</td>\n      <td>...</td>\n      <td>...</td>\n      <td>...</td>\n      <td>...</td>\n      <td>...</td>\n      <td>...</td>\n      <td>...</td>\n      <td>...</td>\n      <td>...</td>\n      <td>...</td>\n    </tr>\n    <tr>\n      <th>565</th>\n      <td>430</td>\n      <td>Marvin Williams\\willima02</td>\n      <td>SF</td>\n      <td>23</td>\n      <td>ATL</td>\n      <td>81</td>\n      <td>81</td>\n      <td>30.5</td>\n      <td>3.7</td>\n      <td>8.2</td>\n      <td>...</td>\n      <td>1.3</td>\n      <td>3.8</td>\n      <td>5.1</td>\n      <td>1.1</td>\n      <td>0.8</td>\n      <td>0.6</td>\n      <td>0.9</td>\n      <td>2.0</td>\n      <td>10.1</td>\n      <td>2010</td>\n    </tr>\n    <tr>\n      <th>566</th>\n      <td>431</td>\n      <td>Mo Williams\\willima01</td>\n      <td>PG</td>\n      <td>27</td>\n      <td>CLE</td>\n      <td>69</td>\n      <td>68</td>\n      <td>34.2</td>\n      <td>5.5</td>\n      <td>12.4</td>\n      <td>...</td>\n      <td>0.4</td>\n      <td>2.6</td>\n      <td>3.0</td>\n      <td>5.3</td>\n      <td>1.0</td>\n      <td>0.3</td>\n      <td>2.5</td>\n      <td>2.5</td>\n      <td>15.8</td>\n      <td>2010</td>\n    </tr>\n    <tr>\n      <th>567</th>\n      <td>432</td>\n      <td>Reggie Williams\\willire02</td>\n      <td>SF</td>\n      <td>23</td>\n      <td>GSW</td>\n      <td>24</td>\n      <td>10</td>\n      <td>32.6</td>\n      <td>5.8</td>\n      <td>11.8</td>\n      <td>...</td>\n      <td>0.8</td>\n      <td>3.8</td>\n      <td>4.6</td>\n      <td>2.8</td>\n      <td>1.0</td>\n      <td>0.3</td>\n      <td>1.2</td>\n      <td>2.0</td>\n      <td>15.2</td>\n      <td>2010</td>\n    </tr>\n    <tr>\n      <th>571</th>\n      <td>436</td>\n      <td>Metta World Peace\\artesro01</td>\n      <td>SF</td>\n      <td>30</td>\n      <td>LAL</td>\n      <td>77</td>\n      <td>77</td>\n      <td>33.8</td>\n      <td>4.0</td>\n      <td>9.6</td>\n      <td>...</td>\n      <td>1.3</td>\n      <td>3.0</td>\n      <td>4.3</td>\n      <td>3.0</td>\n      <td>1.4</td>\n      <td>0.3</td>\n      <td>1.6</td>\n      <td>2.1</td>\n      <td>11.0</td>\n      <td>2010</td>\n    </tr>\n    <tr>\n      <th>577</th>\n      <td>442</td>\n      <td>Thaddeus Young\\youngth01</td>\n      <td>PF</td>\n      <td>21</td>\n      <td>PHI</td>\n      <td>67</td>\n      <td>45</td>\n      <td>32.0</td>\n      <td>5.7</td>\n      <td>12.1</td>\n      <td>...</td>\n      <td>1.9</td>\n      <td>3.3</td>\n      <td>5.2</td>\n      <td>1.4</td>\n      <td>1.2</td>\n      <td>0.2</td>\n      <td>1.9</td>\n      <td>2.0</td>\n      <td>13.8</td>\n      <td>2010</td>\n    </tr>\n  </tbody>\n</table>\n<p>179 rows × 31 columns</p>\n</div>"
     },
     "metadata": {},
     "execution_count": 254
    }
   ],
   "source": [
    "data = drop_under_10(data)\n",
    "data"
   ]
  },
  {
   "source": [
    "As you can see, we have now managed to bring the size of our data frame down to 179 rows. \n",
    "\n",
    "Now, we will get the rest of the data. Just as we did with the 2010 data, we will do with the next year, 2011. "
   ],
   "cell_type": "markdown",
   "metadata": {}
  },
  {
   "cell_type": "code",
   "execution_count": 255,
   "metadata": {},
   "outputs": [],
   "source": [
    "data2 = pd.read_csv('NBA11.csv', sep=',')\n",
    "data2['Year'] = 2011\n",
    "data2 = drop_under_10(data2)"
   ]
  },
  {
   "source": [
    "Next, we will add the two dataframes together."
   ],
   "cell_type": "markdown",
   "metadata": {}
  },
  {
   "cell_type": "code",
   "execution_count": 257,
   "metadata": {},
   "outputs": [],
   "source": [
    "data = pd.concat([data,data2])"
   ]
  },
  {
   "source": [
    "Now, we will repeat this process with the data for the rest of the years. "
   ],
   "cell_type": "markdown",
   "metadata": {}
  },
  {
   "cell_type": "code",
   "execution_count": 258,
   "id": "uniform-winter",
   "metadata": {},
   "outputs": [],
   "source": [
    "\n",
    "data2 = pd.read_csv('NBA12.csv', sep=',')\n",
    "data2['Year'] = 2012\n",
    "data2 = drop_under_10(data2)\n",
    "data = pd.concat([data,data2])\n",
    "\n",
    "data2 = pd.read_csv('NBA13.csv', sep=',')\n",
    "data2['Year'] = 2013\n",
    "data2 = drop_under_10(data2)\n",
    "data = pd.concat([data,data2])\n",
    "\n",
    "data2 = pd.read_csv('NBA14.csv', sep=',')\n",
    "data2['Year'] = 2014\n",
    "data2 = drop_under_10(data2)\n",
    "data = pd.concat([data,data2])\n",
    "\n",
    "data2 = pd.read_csv('NBA15.csv', sep=',')\n",
    "data2['Year'] = 2015\n",
    "data2 = drop_under_10(data2)\n",
    "data = pd.concat([data,data2])\n",
    "\n",
    "data2 = pd.read_csv('NBA16.csv', sep=',')\n",
    "data2['Year'] = 2016\n",
    "data2 = drop_under_10(data2)\n",
    "data = pd.concat([data,data2])\n",
    "\n",
    "data2 = pd.read_csv('NBA17.csv', sep=',')\n",
    "data2['Year'] = 2017\n",
    "data2 = drop_under_10(data2)\n",
    "data = pd.concat([data,data2])\n",
    "\n",
    "data2 = pd.read_csv('NBA18.csv', sep=',')\n",
    "data2['Year'] = 2018\n",
    "data2 = drop_under_10(data2)\n",
    "data = pd.concat([data,data2])\n",
    "\n",
    "data2 = pd.read_csv('NBA19.csv', sep=',')\n",
    "data2['Year'] = 2019\n",
    "data2 = drop_under_10(data2)\n",
    "data = pd.concat([data,data2])\n",
    "\n",
    "data2 = pd.read_csv('NBA20.csv', sep=',')\n",
    "data2['Year'] = 2020\n",
    "data2 = drop_under_10(data2)\n",
    "data = pd.concat([data,data2])\n",
    "\n",
    "data = data.reset_index(drop=True)"
   ]
  },
  {
   "cell_type": "code",
   "execution_count": 259,
   "metadata": {},
   "outputs": [
    {
     "output_type": "execute_result",
     "data": {
      "text/plain": [
       "        Rk                       Player Pos  Age   Tm   G  GS    MP    FG  \\\n",
       "0      3.0  LaMarcus Aldridge\\aldrila01  PF   24  POR  78  78  37.5   7.4   \n",
       "1      6.0         Ray Allen*\\allenra02  SG   34  BOS  80  80  35.2   5.8   \n",
       "2     14.0    Carmelo Anthony\\anthoca01  SF   25  DEN  69  69  38.2  10.0   \n",
       "3     16.0     Gilbert Arenas\\arenagi01  PG   28  WAS  32  32  36.5   7.9   \n",
       "4     17.0       Trevor Ariza\\arizatr01  SF   24  HOU  72  71  36.5   5.5   \n",
       "...    ...                          ...  ..  ...  ...  ..  ..   ...   ...   \n",
       "2052   NaN              Justise Winslow  SF   23  MIA  11   5  32.0   4.5   \n",
       "2053   NaN               Christian Wood  PF   24  DET  62  12  21.4   4.6   \n",
       "2054   NaN               Thaddeus Young  PF   31  CHI  64  16  24.9   4.2   \n",
       "2055   NaN                   Trae Young  PG   21  ATL  60  60  35.3   9.1   \n",
       "2056   NaN                  Cody Zeller   C   27  CHO  58  39  23.1   4.3   \n",
       "\n",
       "       FGA  ...  ORB  DRB  TRB  AST  STL  BLK  TOV   PF   PTS  Year  \n",
       "0     15.0  ...  2.5  5.6  8.0  2.1  0.9  0.6  1.3  3.0  17.9  2010  \n",
       "1     12.2  ...  0.6  2.6  3.2  2.6  0.8  0.3  1.6  2.3  16.3  2010  \n",
       "2     21.8  ...  2.2  4.4  6.6  3.2  1.3  0.4  3.0  3.3  28.2  2010  \n",
       "3     19.3  ...  0.5  3.6  4.2  7.2  1.3  0.3  3.7  3.0  22.6  2010  \n",
       "4     13.9  ...  1.1  4.5  5.6  3.8  1.8  0.6  2.2  2.3  14.9  2010  \n",
       "...    ...  ...  ...  ...  ...  ...  ...  ...  ...  ...   ...   ...  \n",
       "2052  11.7  ...  1.5  5.2  6.6  4.0  0.6  0.5  2.2  3.5  11.3  2020  \n",
       "2053   8.2  ...  1.7  4.6  6.3  1.0  0.5  0.9  1.4  1.6  13.1  2020  \n",
       "2054   9.4  ...  1.5  3.5  4.9  1.8  1.4  0.4  1.6  2.1  10.3  2020  \n",
       "2055  20.8  ...  0.5  3.7  4.3  9.3  1.1  0.1  4.8  1.7  29.6  2020  \n",
       "2056   8.3  ...  2.8  4.3  7.1  1.5  0.7  0.4  1.3  2.4  11.1  2020  \n",
       "\n",
       "[2057 rows x 31 columns]"
      ],
      "text/html": "<div>\n<style scoped>\n    .dataframe tbody tr th:only-of-type {\n        vertical-align: middle;\n    }\n\n    .dataframe tbody tr th {\n        vertical-align: top;\n    }\n\n    .dataframe thead th {\n        text-align: right;\n    }\n</style>\n<table border=\"1\" class=\"dataframe\">\n  <thead>\n    <tr style=\"text-align: right;\">\n      <th></th>\n      <th>Rk</th>\n      <th>Player</th>\n      <th>Pos</th>\n      <th>Age</th>\n      <th>Tm</th>\n      <th>G</th>\n      <th>GS</th>\n      <th>MP</th>\n      <th>FG</th>\n      <th>FGA</th>\n      <th>...</th>\n      <th>ORB</th>\n      <th>DRB</th>\n      <th>TRB</th>\n      <th>AST</th>\n      <th>STL</th>\n      <th>BLK</th>\n      <th>TOV</th>\n      <th>PF</th>\n      <th>PTS</th>\n      <th>Year</th>\n    </tr>\n  </thead>\n  <tbody>\n    <tr>\n      <th>0</th>\n      <td>3.0</td>\n      <td>LaMarcus Aldridge\\aldrila01</td>\n      <td>PF</td>\n      <td>24</td>\n      <td>POR</td>\n      <td>78</td>\n      <td>78</td>\n      <td>37.5</td>\n      <td>7.4</td>\n      <td>15.0</td>\n      <td>...</td>\n      <td>2.5</td>\n      <td>5.6</td>\n      <td>8.0</td>\n      <td>2.1</td>\n      <td>0.9</td>\n      <td>0.6</td>\n      <td>1.3</td>\n      <td>3.0</td>\n      <td>17.9</td>\n      <td>2010</td>\n    </tr>\n    <tr>\n      <th>1</th>\n      <td>6.0</td>\n      <td>Ray Allen*\\allenra02</td>\n      <td>SG</td>\n      <td>34</td>\n      <td>BOS</td>\n      <td>80</td>\n      <td>80</td>\n      <td>35.2</td>\n      <td>5.8</td>\n      <td>12.2</td>\n      <td>...</td>\n      <td>0.6</td>\n      <td>2.6</td>\n      <td>3.2</td>\n      <td>2.6</td>\n      <td>0.8</td>\n      <td>0.3</td>\n      <td>1.6</td>\n      <td>2.3</td>\n      <td>16.3</td>\n      <td>2010</td>\n    </tr>\n    <tr>\n      <th>2</th>\n      <td>14.0</td>\n      <td>Carmelo Anthony\\anthoca01</td>\n      <td>SF</td>\n      <td>25</td>\n      <td>DEN</td>\n      <td>69</td>\n      <td>69</td>\n      <td>38.2</td>\n      <td>10.0</td>\n      <td>21.8</td>\n      <td>...</td>\n      <td>2.2</td>\n      <td>4.4</td>\n      <td>6.6</td>\n      <td>3.2</td>\n      <td>1.3</td>\n      <td>0.4</td>\n      <td>3.0</td>\n      <td>3.3</td>\n      <td>28.2</td>\n      <td>2010</td>\n    </tr>\n    <tr>\n      <th>3</th>\n      <td>16.0</td>\n      <td>Gilbert Arenas\\arenagi01</td>\n      <td>PG</td>\n      <td>28</td>\n      <td>WAS</td>\n      <td>32</td>\n      <td>32</td>\n      <td>36.5</td>\n      <td>7.9</td>\n      <td>19.3</td>\n      <td>...</td>\n      <td>0.5</td>\n      <td>3.6</td>\n      <td>4.2</td>\n      <td>7.2</td>\n      <td>1.3</td>\n      <td>0.3</td>\n      <td>3.7</td>\n      <td>3.0</td>\n      <td>22.6</td>\n      <td>2010</td>\n    </tr>\n    <tr>\n      <th>4</th>\n      <td>17.0</td>\n      <td>Trevor Ariza\\arizatr01</td>\n      <td>SF</td>\n      <td>24</td>\n      <td>HOU</td>\n      <td>72</td>\n      <td>71</td>\n      <td>36.5</td>\n      <td>5.5</td>\n      <td>13.9</td>\n      <td>...</td>\n      <td>1.1</td>\n      <td>4.5</td>\n      <td>5.6</td>\n      <td>3.8</td>\n      <td>1.8</td>\n      <td>0.6</td>\n      <td>2.2</td>\n      <td>2.3</td>\n      <td>14.9</td>\n      <td>2010</td>\n    </tr>\n    <tr>\n      <th>...</th>\n      <td>...</td>\n      <td>...</td>\n      <td>...</td>\n      <td>...</td>\n      <td>...</td>\n      <td>...</td>\n      <td>...</td>\n      <td>...</td>\n      <td>...</td>\n      <td>...</td>\n      <td>...</td>\n      <td>...</td>\n      <td>...</td>\n      <td>...</td>\n      <td>...</td>\n      <td>...</td>\n      <td>...</td>\n      <td>...</td>\n      <td>...</td>\n      <td>...</td>\n      <td>...</td>\n    </tr>\n    <tr>\n      <th>2052</th>\n      <td>NaN</td>\n      <td>Justise Winslow</td>\n      <td>SF</td>\n      <td>23</td>\n      <td>MIA</td>\n      <td>11</td>\n      <td>5</td>\n      <td>32.0</td>\n      <td>4.5</td>\n      <td>11.7</td>\n      <td>...</td>\n      <td>1.5</td>\n      <td>5.2</td>\n      <td>6.6</td>\n      <td>4.0</td>\n      <td>0.6</td>\n      <td>0.5</td>\n      <td>2.2</td>\n      <td>3.5</td>\n      <td>11.3</td>\n      <td>2020</td>\n    </tr>\n    <tr>\n      <th>2053</th>\n      <td>NaN</td>\n      <td>Christian Wood</td>\n      <td>PF</td>\n      <td>24</td>\n      <td>DET</td>\n      <td>62</td>\n      <td>12</td>\n      <td>21.4</td>\n      <td>4.6</td>\n      <td>8.2</td>\n      <td>...</td>\n      <td>1.7</td>\n      <td>4.6</td>\n      <td>6.3</td>\n      <td>1.0</td>\n      <td>0.5</td>\n      <td>0.9</td>\n      <td>1.4</td>\n      <td>1.6</td>\n      <td>13.1</td>\n      <td>2020</td>\n    </tr>\n    <tr>\n      <th>2054</th>\n      <td>NaN</td>\n      <td>Thaddeus Young</td>\n      <td>PF</td>\n      <td>31</td>\n      <td>CHI</td>\n      <td>64</td>\n      <td>16</td>\n      <td>24.9</td>\n      <td>4.2</td>\n      <td>9.4</td>\n      <td>...</td>\n      <td>1.5</td>\n      <td>3.5</td>\n      <td>4.9</td>\n      <td>1.8</td>\n      <td>1.4</td>\n      <td>0.4</td>\n      <td>1.6</td>\n      <td>2.1</td>\n      <td>10.3</td>\n      <td>2020</td>\n    </tr>\n    <tr>\n      <th>2055</th>\n      <td>NaN</td>\n      <td>Trae Young</td>\n      <td>PG</td>\n      <td>21</td>\n      <td>ATL</td>\n      <td>60</td>\n      <td>60</td>\n      <td>35.3</td>\n      <td>9.1</td>\n      <td>20.8</td>\n      <td>...</td>\n      <td>0.5</td>\n      <td>3.7</td>\n      <td>4.3</td>\n      <td>9.3</td>\n      <td>1.1</td>\n      <td>0.1</td>\n      <td>4.8</td>\n      <td>1.7</td>\n      <td>29.6</td>\n      <td>2020</td>\n    </tr>\n    <tr>\n      <th>2056</th>\n      <td>NaN</td>\n      <td>Cody Zeller</td>\n      <td>C</td>\n      <td>27</td>\n      <td>CHO</td>\n      <td>58</td>\n      <td>39</td>\n      <td>23.1</td>\n      <td>4.3</td>\n      <td>8.3</td>\n      <td>...</td>\n      <td>2.8</td>\n      <td>4.3</td>\n      <td>7.1</td>\n      <td>1.5</td>\n      <td>0.7</td>\n      <td>0.4</td>\n      <td>1.3</td>\n      <td>2.4</td>\n      <td>11.1</td>\n      <td>2020</td>\n    </tr>\n  </tbody>\n</table>\n<p>2057 rows × 31 columns</p>\n</div>"
     },
     "metadata": {},
     "execution_count": 259
    }
   ],
   "source": [
    "data"
   ]
  },
  {
   "source": [
    "As you can see, we currently have a dataframe with 2057 rows that contains the stats of every player (who scored over 10 points per game) from the year 2010 to 2020. \n",
    "\n",
    "Next, we need to mark down whether or not the player made the All Star team that year.\n",
    "\n",
    "To accomplish this, we will make a dataframe with all the All Star Selections between 2010 and 2020. \n",
    "\n",
    "To get the data, go to https://basketball.realgm.com/nba/allstar/game/rosters/2010. Highlight the table and paste it in either Excel or Numbers. Export as a csv and add it to your file. Repeat this process for the years 2011-2020. \n",
    "\n",
    "Next, read it into a pandas dataframe like we did above, and add a column, Year, with the year the data comes from."
   ],
   "cell_type": "markdown",
   "metadata": {}
  },
  {
   "cell_type": "code",
   "execution_count": 260,
   "id": "younger-rwanda",
   "metadata": {},
   "outputs": [
    {
     "output_type": "execute_result",
     "data": {
      "text/plain": [
       "             Player  Year\n",
       "0   Carmelo Anthony  2010\n",
       "1  Chauncey Billups  2010\n",
       "2       Kobe Bryant  2010\n",
       "3        Tim Duncan  2010\n",
       "4      Kevin Durant  2010"
      ],
      "text/html": "<div>\n<style scoped>\n    .dataframe tbody tr th:only-of-type {\n        vertical-align: middle;\n    }\n\n    .dataframe tbody tr th {\n        vertical-align: top;\n    }\n\n    .dataframe thead th {\n        text-align: right;\n    }\n</style>\n<table border=\"1\" class=\"dataframe\">\n  <thead>\n    <tr style=\"text-align: right;\">\n      <th></th>\n      <th>Player</th>\n      <th>Year</th>\n    </tr>\n  </thead>\n  <tbody>\n    <tr>\n      <th>0</th>\n      <td>Carmelo Anthony</td>\n      <td>2010</td>\n    </tr>\n    <tr>\n      <th>1</th>\n      <td>Chauncey Billups</td>\n      <td>2010</td>\n    </tr>\n    <tr>\n      <th>2</th>\n      <td>Kobe Bryant</td>\n      <td>2010</td>\n    </tr>\n    <tr>\n      <th>3</th>\n      <td>Tim Duncan</td>\n      <td>2010</td>\n    </tr>\n    <tr>\n      <th>4</th>\n      <td>Kevin Durant</td>\n      <td>2010</td>\n    </tr>\n  </tbody>\n</table>\n</div>"
     },
     "metadata": {},
     "execution_count": 260
    }
   ],
   "source": [
    "allstars = pd.read_csv('AllStars10.csv', sep=',')\n",
    "allstars['Year'] = 2010 \n",
    "\n",
    "allstars2 = pd.read_csv('AllStars11.csv', sep=',')\n",
    "allstars2['Year'] = 2011\n",
    "allstars = pd.concat([allstars, allstars2])\n",
    "\n",
    "allstars2 = pd.read_csv('AllStars12.csv', sep=',')\n",
    "allstars2['Year'] = 2012\n",
    "allstars = pd.concat([allstars, allstars2])\n",
    "\n",
    "allstars2 = pd.read_csv('AllStars13.csv', sep=',')\n",
    "allstars2['Year'] = 2013\n",
    "allstars = pd.concat([allstars, allstars2])\n",
    "\n",
    "allstars2 = pd.read_csv('AllStars14.csv', sep=',')\n",
    "allstars2['Year'] = 2014\n",
    "allstars = pd.concat([allstars, allstars2])\n",
    "\n",
    "allstars2 = pd.read_csv('AllStars15.csv', sep=',')\n",
    "allstars2['Year'] = 2015\n",
    "allstars = pd.concat([allstars, allstars2])\n",
    "\n",
    "allstars2 = pd.read_csv('AllStars16.csv', sep=',')\n",
    "allstars2['Year'] = 2016\n",
    "allstars = pd.concat([allstars, allstars2])\n",
    "\n",
    "allstars2 = pd.read_csv('AllStars17.csv', sep=',')\n",
    "allstars2['Year'] = 2017\n",
    "allstars = pd.concat([allstars, allstars2])\n",
    "\n",
    "allstars2 = pd.read_csv('AllStars17.csv', sep=',')\n",
    "allstars2['Year'] = 2017\n",
    "allstars = pd.concat([allstars, allstars2])\n",
    "\n",
    "allstars2 = pd.read_csv('AllStars18.csv', sep=',')\n",
    "allstars2['Year'] = 2018\n",
    "allstars = pd.concat([allstars, allstars2])\n",
    "\n",
    "allstars2 = pd.read_csv('AllStars19.csv', sep=',')\n",
    "allstars2['Year'] = 2019\n",
    "allstars = pd.concat([allstars, allstars2])\n",
    "\n",
    "allstars2 = pd.read_csv('AllStars20.csv', sep=',')\n",
    "allstars2['Year'] = 2020\n",
    "allstars = pd.concat([allstars, allstars2])\n",
    "\n",
    "allstars.head()"
   ]
  },
  {
   "source": [
    "We now have a dataframe with all the All Stars from 2010-2020. \n",
    "\n",
    "Now, we need to add a column in our original dataframe that indicated whether or not a player made the All Star team that year. "
   ],
   "cell_type": "markdown",
   "metadata": {}
  },
  {
   "cell_type": "code",
   "execution_count": 261,
   "metadata": {},
   "outputs": [],
   "source": [
    "data['All Star'] = 0"
   ]
  },
  {
   "source": [
    "A player will have a 1 if they made the team, and a 0 if they did not. \n",
    "\n",
    "Now, we will make a method that returns true if a player made an all star team. It works by taking as input a players name and the year. It will search through the All Star dataframe, and return true if that player and year is located in the dataframe. "
   ],
   "cell_type": "markdown",
   "metadata": {}
  },
  {
   "cell_type": "code",
   "execution_count": 262,
   "metadata": {},
   "outputs": [],
   "source": [
    "def was_allstar(name, year):\n",
    "    for i, r in allstars.iterrows():\n",
    "        if (r['Player'] in name and year == r['Year']):\n",
    "            return True "
   ]
  },
  {
   "source": [
    "Now, we will go through the dataframe of stats and call this method for every player. If the method returns true, we will add a 1 in the All Star column and a 0 if it returns false. "
   ],
   "cell_type": "markdown",
   "metadata": {}
  },
  {
   "cell_type": "code",
   "execution_count": 263,
   "id": "5487c58b",
   "metadata": {},
   "outputs": [],
   "source": [
    "for i, r in data.iterrows():\n",
    "    if (was_allstar(r['Player'], r['Year'])):\n",
    "        data.at[i, 'All Star'] = 1\n"
   ]
  },
  {
   "cell_type": "code",
   "execution_count": 264,
   "metadata": {},
   "outputs": [
    {
     "output_type": "execute_result",
     "data": {
      "text/plain": [
       "     Rk                       Player Pos  Age   Tm   G  GS    MP    FG   FGA  \\\n",
       "0   3.0  LaMarcus Aldridge\\aldrila01  PF   24  POR  78  78  37.5   7.4  15.0   \n",
       "1   6.0         Ray Allen*\\allenra02  SG   34  BOS  80  80  35.2   5.8  12.2   \n",
       "2  14.0    Carmelo Anthony\\anthoca01  SF   25  DEN  69  69  38.2  10.0  21.8   \n",
       "3  16.0     Gilbert Arenas\\arenagi01  PG   28  WAS  32  32  36.5   7.9  19.3   \n",
       "4  17.0       Trevor Ariza\\arizatr01  SF   24  HOU  72  71  36.5   5.5  13.9   \n",
       "\n",
       "   ...  DRB  TRB  AST  STL  BLK  TOV   PF   PTS  Year  All Star  \n",
       "0  ...  5.6  8.0  2.1  0.9  0.6  1.3  3.0  17.9  2010         0  \n",
       "1  ...  2.6  3.2  2.6  0.8  0.3  1.6  2.3  16.3  2010         0  \n",
       "2  ...  4.4  6.6  3.2  1.3  0.4  3.0  3.3  28.2  2010         1  \n",
       "3  ...  3.6  4.2  7.2  1.3  0.3  3.7  3.0  22.6  2010         0  \n",
       "4  ...  4.5  5.6  3.8  1.8  0.6  2.2  2.3  14.9  2010         0  \n",
       "\n",
       "[5 rows x 32 columns]"
      ],
      "text/html": "<div>\n<style scoped>\n    .dataframe tbody tr th:only-of-type {\n        vertical-align: middle;\n    }\n\n    .dataframe tbody tr th {\n        vertical-align: top;\n    }\n\n    .dataframe thead th {\n        text-align: right;\n    }\n</style>\n<table border=\"1\" class=\"dataframe\">\n  <thead>\n    <tr style=\"text-align: right;\">\n      <th></th>\n      <th>Rk</th>\n      <th>Player</th>\n      <th>Pos</th>\n      <th>Age</th>\n      <th>Tm</th>\n      <th>G</th>\n      <th>GS</th>\n      <th>MP</th>\n      <th>FG</th>\n      <th>FGA</th>\n      <th>...</th>\n      <th>DRB</th>\n      <th>TRB</th>\n      <th>AST</th>\n      <th>STL</th>\n      <th>BLK</th>\n      <th>TOV</th>\n      <th>PF</th>\n      <th>PTS</th>\n      <th>Year</th>\n      <th>All Star</th>\n    </tr>\n  </thead>\n  <tbody>\n    <tr>\n      <th>0</th>\n      <td>3.0</td>\n      <td>LaMarcus Aldridge\\aldrila01</td>\n      <td>PF</td>\n      <td>24</td>\n      <td>POR</td>\n      <td>78</td>\n      <td>78</td>\n      <td>37.5</td>\n      <td>7.4</td>\n      <td>15.0</td>\n      <td>...</td>\n      <td>5.6</td>\n      <td>8.0</td>\n      <td>2.1</td>\n      <td>0.9</td>\n      <td>0.6</td>\n      <td>1.3</td>\n      <td>3.0</td>\n      <td>17.9</td>\n      <td>2010</td>\n      <td>0</td>\n    </tr>\n    <tr>\n      <th>1</th>\n      <td>6.0</td>\n      <td>Ray Allen*\\allenra02</td>\n      <td>SG</td>\n      <td>34</td>\n      <td>BOS</td>\n      <td>80</td>\n      <td>80</td>\n      <td>35.2</td>\n      <td>5.8</td>\n      <td>12.2</td>\n      <td>...</td>\n      <td>2.6</td>\n      <td>3.2</td>\n      <td>2.6</td>\n      <td>0.8</td>\n      <td>0.3</td>\n      <td>1.6</td>\n      <td>2.3</td>\n      <td>16.3</td>\n      <td>2010</td>\n      <td>0</td>\n    </tr>\n    <tr>\n      <th>2</th>\n      <td>14.0</td>\n      <td>Carmelo Anthony\\anthoca01</td>\n      <td>SF</td>\n      <td>25</td>\n      <td>DEN</td>\n      <td>69</td>\n      <td>69</td>\n      <td>38.2</td>\n      <td>10.0</td>\n      <td>21.8</td>\n      <td>...</td>\n      <td>4.4</td>\n      <td>6.6</td>\n      <td>3.2</td>\n      <td>1.3</td>\n      <td>0.4</td>\n      <td>3.0</td>\n      <td>3.3</td>\n      <td>28.2</td>\n      <td>2010</td>\n      <td>1</td>\n    </tr>\n    <tr>\n      <th>3</th>\n      <td>16.0</td>\n      <td>Gilbert Arenas\\arenagi01</td>\n      <td>PG</td>\n      <td>28</td>\n      <td>WAS</td>\n      <td>32</td>\n      <td>32</td>\n      <td>36.5</td>\n      <td>7.9</td>\n      <td>19.3</td>\n      <td>...</td>\n      <td>3.6</td>\n      <td>4.2</td>\n      <td>7.2</td>\n      <td>1.3</td>\n      <td>0.3</td>\n      <td>3.7</td>\n      <td>3.0</td>\n      <td>22.6</td>\n      <td>2010</td>\n      <td>0</td>\n    </tr>\n    <tr>\n      <th>4</th>\n      <td>17.0</td>\n      <td>Trevor Ariza\\arizatr01</td>\n      <td>SF</td>\n      <td>24</td>\n      <td>HOU</td>\n      <td>72</td>\n      <td>71</td>\n      <td>36.5</td>\n      <td>5.5</td>\n      <td>13.9</td>\n      <td>...</td>\n      <td>4.5</td>\n      <td>5.6</td>\n      <td>3.8</td>\n      <td>1.8</td>\n      <td>0.6</td>\n      <td>2.2</td>\n      <td>2.3</td>\n      <td>14.9</td>\n      <td>2010</td>\n      <td>0</td>\n    </tr>\n  </tbody>\n</table>\n<p>5 rows × 32 columns</p>\n</div>"
     },
     "metadata": {},
     "execution_count": 264
    }
   ],
   "source": [
    "data.head()"
   ]
  },
  {
   "source": [
    "Now, the last column contains whether or not they made the All Star team.\n",
    "\n",
    "Currently, the dataframe has the players Twitter handle as well in the \"Player\" column. That is not good to look at, so we will create a method that will remove it from the dataframe. The method uses regular expressions to find the \"\\\" and removes anything after it."
   ],
   "cell_type": "markdown",
   "metadata": {}
  },
  {
   "cell_type": "code",
   "execution_count": 265,
   "id": "4accd3d8",
   "metadata": {},
   "outputs": [],
   "source": [
    "for i, r in data.iterrows():\n",
    "    if re.search(r'\\\\[a-z]', data.at[i, 'Player']):\n",
    "       name = re.split(r'\\\\[a-z]', data.at[i, 'Player'])\n",
    "       data.at[i,'Player'] = name[0] "
   ]
  },
  {
   "source": [
    "In our model, we will only be looking at what I consider to be the most important, basic stats to consider.\n",
    "Age, Points per game, Field Goal Percentage, Rebounds, Assists, Steals, Blocks, and Turnovers. Therefore, we will drop the columns with all of the other information."
   ],
   "cell_type": "markdown",
   "metadata": {}
  },
  {
   "cell_type": "code",
   "execution_count": 266,
   "metadata": {},
   "outputs": [],
   "source": [
    "data = data.drop(columns=['Pos', 'Rk', 'G', 'GS', 'MP', 'FG', 'FGA', '3P', '3P%', '2P', '2PA', '2P%', '3PA', 'eFG%', 'FT', 'FTA', 'FT%', 'ORB', 'DRB', 'PF'])"
   ]
  },
  {
   "source": [
    "## Step 2: Creating the Model"
   ],
   "cell_type": "markdown",
   "metadata": {}
  },
  {
   "source": [
    "Now, we will create our model. We will be creating a random forest of decision trees. A decision tree is a machine learning tool that will create branches based on inputs, and output a decision. In this case, it will take as input all the stats in the dataframe, and output whether or not that player will make the All Star team. \n",
    "\n",
    "To learn more about decision trees, check out this article: https://scikit-learn.org/stable/modules/tree.html.\n",
    "\n",
    "Import the following in order to make a decision tree model:"
   ],
   "cell_type": "markdown",
   "metadata": {}
  },
  {
   "cell_type": "code",
   "execution_count": 267,
   "metadata": {},
   "outputs": [],
   "source": [
    "from sklearn import tree\n",
    "from sklearn.model_selection import train_test_split\n",
    "from sklearn import metrics\n",
    "from sklearn.ensemble import RandomForestClassifier"
   ]
  },
  {
   "source": [
    "We will be making our model using a random forest. A random forest is a method that will make 100 different decision trees, and aggregate the results of each in order to make the best tree. \n",
    "\n",
    "We will divide the dataframe into \"inputs\" and \"target\". Inputs is all the stats we want the model to consider, and target is whether or not the player made the all star team. "
   ],
   "cell_type": "markdown",
   "metadata": {}
  },
  {
   "cell_type": "code",
   "execution_count": 268,
   "metadata": {},
   "outputs": [],
   "source": [
    "model = RandomForestClassifier()\n",
    "inputs = data.drop(columns=['Player','Tm','Year','All Star'])\n",
    "target = data['All Star']"
   ]
  },
  {
   "source": [
    "Next, we will split our data so we can do cross validation. Cross validation is a term in machine learning that means that we will split our data into training data and testing data. Then, we will build the model based on the training data, and evaluate how well the model works with the testing data. To learn more, see https://scikit-learn.org/stable/modules/cross_validation.html. \n",
    "\n",
    "We will be splitting our data into 80% as training data, and 20% as testing data."
   ],
   "cell_type": "markdown",
   "metadata": {}
  },
  {
   "cell_type": "code",
   "execution_count": 269,
   "metadata": {},
   "outputs": [
    {
     "output_type": "execute_result",
     "data": {
      "text/plain": [
       "0.9320388349514563"
      ]
     },
     "metadata": {},
     "execution_count": 269
    }
   ],
   "source": [
    "X_train, X_test, y_train, y_test = train_test_split(inputs, target, random_state=1, test_size= 0.2)\n",
    "model.fit(X_train,y_train)\n",
    "y_pred = model.predict(X_test)\n",
    "metrics.accuracy_score(y_test, y_pred)"
   ]
  },
  {
   "source": [
    "## Step 3: Adding advanced stats to our model \n",
    "We have now created the model, and our model correctly predicted around 93.2% of our testing data! That is pretty good!\n",
    "\n",
    "However, I think that if we add advanced metrics into our model, we might even be able to do better.\n",
    "\n",
    "Advanced metrics are a set of statistics that show how efficient players are, as well as compares them with the rest of the league. To many, they are considered more accurate ways of seeing how good specific players are than traditional statistics. \n",
    "\n",
    "We will now create a dataframe of advanced statistics using the same method as traditional statistics we used earlier. \n",
    "\n",
    "We will be looking at the following advanced metrics:\n",
    "\n",
    "PER (Player Efficiency Rating): A metric that combines all traditional stats, compares to league averages, and adjusts for the total minutes played. The league average is always 15.0.\n",
    "\n",
    "TS% (True Shooting Percentage): A weighted average that takes into account 3-Point percentage, free-throw percentage, and regular 2-point percentage.\n",
    "\n",
    "WS (Win Shares): An estimate of the number of wins a player contricutes to their team.\n",
    "\n",
    "BPM (Box Plus Minus): Estimates the number of points a player contributed to their team per 100 possesions. "
   ],
   "cell_type": "markdown",
   "metadata": {}
  },
  {
   "cell_type": "code",
   "execution_count": 270,
   "metadata": {},
   "outputs": [],
   "source": [
    "def drop_under_50(data):\n",
    "    for i,r in data.iterrows():\n",
    "        if r['G'] < 50:\n",
    "            data = data.drop(i)\n",
    "    return data"
   ]
  },
  {
   "source": [
    "In order to keep the data size from getting too big, we will drop players that played less than 50 games, as it is very unlikely one could make all All Star team with that few games (there are 82 games in a normal NBA Season)."
   ],
   "cell_type": "markdown",
   "metadata": {}
  },
  {
   "cell_type": "code",
   "execution_count": 271,
   "metadata": {},
   "outputs": [],
   "source": [
    "advanced = pd.read_csv('Advanced10.csv')\n",
    "advanced['Year'] = 2010\n",
    "advanced = drop_under_41(advanced)\n",
    "advanced = advanced[['Player', 'PER', 'TS%', 'WS', 'BPM', 'Year']]"
   ]
  },
  {
   "cell_type": "code",
   "execution_count": 272,
   "metadata": {},
   "outputs": [],
   "source": [
    "advanced2 = pd.read_csv('Advanced11.csv')\n",
    "advanced2['Year'] = 2011\n",
    "advanced2 = drop_under_41(advanced2)\n",
    "advanced2 = advanced2[['Player', 'PER', 'TS%', 'WS', 'BPM', 'Year']]\n",
    "\n",
    "# Combining the dataframes\n",
    "advanced = pd.concat([advanced, advanced2])\n",
    "\n",
    "advanced2 = pd.read_csv('Advanced12.csv')\n",
    "advanced2['Year'] = 2012\n",
    "advanced2 = drop_under_41(advanced2)\n",
    "advanced2 = advanced2[['Player', 'PER', 'TS%', 'WS', 'BPM', 'Year']]\n",
    "advanced = pd.concat([advanced, advanced2])\n",
    "\n",
    "\n",
    "advanced2 = pd.read_csv('Advanced12.csv')\n",
    "advanced2['Year'] = 2013\n",
    "advanced2 = drop_under_41(advanced2)\n",
    "advanced2 = advanced2[['Player', 'PER', 'TS%', 'WS', 'BPM', 'Year']]\n",
    "advanced = pd.concat([advanced, advanced2])\n",
    "\n",
    "\n",
    "advanced2 = pd.read_csv('Advanced14.csv')\n",
    "advanced2['Year'] = 2014\n",
    "advanced2 = drop_under_41(advanced2)\n",
    "advanced2 = advanced2[['Player', 'PER', 'TS%', 'WS', 'BPM', 'Year']]\n",
    "advanced = pd.concat([advanced, advanced2])\n",
    "\n",
    "\n",
    "advanced2 = pd.read_csv('Advanced15.csv')\n",
    "advanced2['Year'] = 2015\n",
    "advanced2 = drop_under_41(advanced2)\n",
    "advanced2 = advanced2[['Player', 'PER', 'TS%', 'WS', 'BPM', 'Year']]\n",
    "advanced = pd.concat([advanced, advanced2])\n",
    "\n",
    "\n",
    "advanced2 = pd.read_csv('Advanced16.csv')\n",
    "advanced2['Year'] = 2016\n",
    "advanced2 = drop_under_41(advanced2)\n",
    "advanced2 = advanced2[['Player', 'PER', 'TS%', 'WS', 'BPM', 'Year']]\n",
    "advanced = pd.concat([advanced, advanced2])\n",
    "\n",
    "\n",
    "advanced2 = pd.read_csv('Advanced17.csv')\n",
    "advanced2['Year'] = 2017\n",
    "advanced2 = drop_under_41(advanced2)\n",
    "advanced2 = advanced2[['Player', 'PER', 'TS%', 'WS', 'BPM', 'Year']]\n",
    "advanced = pd.concat([advanced, advanced2])\n",
    "\n",
    "\n",
    "advanced2 = pd.read_csv('Advanced18.csv')\n",
    "advanced2['Year'] = 2018\n",
    "advanced2 = drop_under_41(advanced2)\n",
    "advanced2 = advanced2[['Player', 'PER', 'TS%', 'WS', 'BPM', 'Year']]\n",
    "advanced = pd.concat([advanced, advanced2])\n",
    "\n",
    "\n",
    "advanced2 = pd.read_csv('Advanced19.csv')\n",
    "advanced2['Year'] = 2019\n",
    "advanced2 = drop_under_41(advanced2)\n",
    "advanced2 = advanced2[['Player', 'PER', 'TS%', 'WS', 'BPM', 'Year']]\n",
    "advanced = pd.concat([advanced, advanced2])\n",
    "\n",
    "\n",
    "advanced2 = pd.read_csv('Advanced20.csv')\n",
    "advanced2['Year'] = 2020\n",
    "advanced2 = drop_under_41(advanced2)\n",
    "advanced2 = advanced2[['Player', 'PER', 'TS%', 'WS', 'BPM', 'Year']]\n",
    "advanced = pd.concat([advanced, advanced2])\n",
    "\n",
    "advanced = advanced.reset_index()\n",
    "for i, r in advanced.iterrows():\n",
    "    if re.search(r'\\\\[a-z]', advanced.at[i, 'Player']):\n",
    "       name = re.split(r'\\\\[a-z]', advanced.at[i, 'Player'])\n",
    "       advanced.at[i,'Player'] = name[0] \n",
    "       \n"
   ]
  },
  {
   "cell_type": "code",
   "execution_count": 273,
   "metadata": {},
   "outputs": [
    {
     "output_type": "execute_result",
     "data": {
      "text/plain": [
       "   index             Player   PER    TS%   WS  BPM  Year\n",
       "0      0      Arron Afflalo  10.9  0.576  4.3 -0.4  2010\n",
       "1      2  LaMarcus Aldridge  18.2  0.535  8.8  1.2  2010\n",
       "2      4        Malik Allen   5.9  0.431  0.1 -5.7  2010\n",
       "3      5         Ray Allen*  15.2  0.601  7.9  1.2  2010\n",
       "4      6         Tony Allen  14.2  0.540  1.9  0.4  2010"
      ],
      "text/html": "<div>\n<style scoped>\n    .dataframe tbody tr th:only-of-type {\n        vertical-align: middle;\n    }\n\n    .dataframe tbody tr th {\n        vertical-align: top;\n    }\n\n    .dataframe thead th {\n        text-align: right;\n    }\n</style>\n<table border=\"1\" class=\"dataframe\">\n  <thead>\n    <tr style=\"text-align: right;\">\n      <th></th>\n      <th>index</th>\n      <th>Player</th>\n      <th>PER</th>\n      <th>TS%</th>\n      <th>WS</th>\n      <th>BPM</th>\n      <th>Year</th>\n    </tr>\n  </thead>\n  <tbody>\n    <tr>\n      <th>0</th>\n      <td>0</td>\n      <td>Arron Afflalo</td>\n      <td>10.9</td>\n      <td>0.576</td>\n      <td>4.3</td>\n      <td>-0.4</td>\n      <td>2010</td>\n    </tr>\n    <tr>\n      <th>1</th>\n      <td>2</td>\n      <td>LaMarcus Aldridge</td>\n      <td>18.2</td>\n      <td>0.535</td>\n      <td>8.8</td>\n      <td>1.2</td>\n      <td>2010</td>\n    </tr>\n    <tr>\n      <th>2</th>\n      <td>4</td>\n      <td>Malik Allen</td>\n      <td>5.9</td>\n      <td>0.431</td>\n      <td>0.1</td>\n      <td>-5.7</td>\n      <td>2010</td>\n    </tr>\n    <tr>\n      <th>3</th>\n      <td>5</td>\n      <td>Ray Allen*</td>\n      <td>15.2</td>\n      <td>0.601</td>\n      <td>7.9</td>\n      <td>1.2</td>\n      <td>2010</td>\n    </tr>\n    <tr>\n      <th>4</th>\n      <td>6</td>\n      <td>Tony Allen</td>\n      <td>14.2</td>\n      <td>0.540</td>\n      <td>1.9</td>\n      <td>0.4</td>\n      <td>2010</td>\n    </tr>\n  </tbody>\n</table>\n</div>"
     },
     "metadata": {},
     "execution_count": 273
    }
   ],
   "source": [
    "advanced.head()"
   ]
  },
  {
   "source": [
    "We now have a dataframe with all the NBA players advanced statistics for 2010-2020. Next, we want to add these stats to our original dataframe. \n",
    "\n",
    "We will create columns for those statistics, and set the default values to 0.0."
   ],
   "cell_type": "markdown",
   "metadata": {}
  },
  {
   "cell_type": "code",
   "execution_count": 274,
   "metadata": {},
   "outputs": [],
   "source": [
    "data['PER'] = 0.0\n",
    "data['TS%'] = 0.0\n",
    "data['WS'] = 0.0\n",
    "data['BPM'] = 0.0"
   ]
  },
  {
   "source": [
    "We will create a method that returns a players advanced metrics for that year. This method works by calling a query on the advanced data dataframe. It will return a tuple of the players advanced stats."
   ],
   "cell_type": "markdown",
   "metadata": {}
  },
  {
   "cell_type": "code",
   "execution_count": 275,
   "metadata": {},
   "outputs": [],
   "source": [
    "def get_advanced(player, year):\n",
    "    stats = advanced.query('Player == @player and Year == @year')\n",
    "    if (not stats.empty):\n",
    "        stats = stats.reset_index()\n",
    "        return (stats.at[0,'PER'], stats.at[0,'TS%'], stats.at[0, 'WS'], stats.at[0, 'BPM'])\n",
    "    else:\n",
    "        return ()\n",
    "\n"
   ]
  },
  {
   "source": [
    "Now, we will iterate through each player in the dataframe, and add their advanced metrics."
   ],
   "cell_type": "markdown",
   "metadata": {}
  },
  {
   "cell_type": "code",
   "execution_count": 276,
   "metadata": {},
   "outputs": [
    {
     "output_type": "execute_result",
     "data": {
      "text/plain": [
       "              Player  Age   Tm    FG%  TRB  AST  STL  BLK  TOV   PTS  Year  \\\n",
       "0  LaMarcus Aldridge   24  POR  0.495  8.0  2.1  0.9  0.6  1.3  17.9  2010   \n",
       "1         Ray Allen*   34  BOS  0.477  3.2  2.6  0.8  0.3  1.6  16.3  2010   \n",
       "2    Carmelo Anthony   25  DEN  0.458  6.6  3.2  1.3  0.4  3.0  28.2  2010   \n",
       "3     Gilbert Arenas   28  WAS  0.411  4.2  7.2  1.3  0.3  3.7  22.6  2010   \n",
       "4       Trevor Ariza   24  HOU  0.394  5.6  3.8  1.8  0.6  2.2  14.9  2010   \n",
       "\n",
       "   All Star   PER    TS%   WS  BPM  \n",
       "0         0  18.2  0.535  8.8  1.2  \n",
       "1         0  15.2  0.601  7.9  1.2  \n",
       "2         1  22.2  0.548  7.9  2.3  \n",
       "3         0   0.0  0.000  0.0  0.0  \n",
       "4         0  13.3  0.488  3.2  0.5  "
      ],
      "text/html": "<div>\n<style scoped>\n    .dataframe tbody tr th:only-of-type {\n        vertical-align: middle;\n    }\n\n    .dataframe tbody tr th {\n        vertical-align: top;\n    }\n\n    .dataframe thead th {\n        text-align: right;\n    }\n</style>\n<table border=\"1\" class=\"dataframe\">\n  <thead>\n    <tr style=\"text-align: right;\">\n      <th></th>\n      <th>Player</th>\n      <th>Age</th>\n      <th>Tm</th>\n      <th>FG%</th>\n      <th>TRB</th>\n      <th>AST</th>\n      <th>STL</th>\n      <th>BLK</th>\n      <th>TOV</th>\n      <th>PTS</th>\n      <th>Year</th>\n      <th>All Star</th>\n      <th>PER</th>\n      <th>TS%</th>\n      <th>WS</th>\n      <th>BPM</th>\n    </tr>\n  </thead>\n  <tbody>\n    <tr>\n      <th>0</th>\n      <td>LaMarcus Aldridge</td>\n      <td>24</td>\n      <td>POR</td>\n      <td>0.495</td>\n      <td>8.0</td>\n      <td>2.1</td>\n      <td>0.9</td>\n      <td>0.6</td>\n      <td>1.3</td>\n      <td>17.9</td>\n      <td>2010</td>\n      <td>0</td>\n      <td>18.2</td>\n      <td>0.535</td>\n      <td>8.8</td>\n      <td>1.2</td>\n    </tr>\n    <tr>\n      <th>1</th>\n      <td>Ray Allen*</td>\n      <td>34</td>\n      <td>BOS</td>\n      <td>0.477</td>\n      <td>3.2</td>\n      <td>2.6</td>\n      <td>0.8</td>\n      <td>0.3</td>\n      <td>1.6</td>\n      <td>16.3</td>\n      <td>2010</td>\n      <td>0</td>\n      <td>15.2</td>\n      <td>0.601</td>\n      <td>7.9</td>\n      <td>1.2</td>\n    </tr>\n    <tr>\n      <th>2</th>\n      <td>Carmelo Anthony</td>\n      <td>25</td>\n      <td>DEN</td>\n      <td>0.458</td>\n      <td>6.6</td>\n      <td>3.2</td>\n      <td>1.3</td>\n      <td>0.4</td>\n      <td>3.0</td>\n      <td>28.2</td>\n      <td>2010</td>\n      <td>1</td>\n      <td>22.2</td>\n      <td>0.548</td>\n      <td>7.9</td>\n      <td>2.3</td>\n    </tr>\n    <tr>\n      <th>3</th>\n      <td>Gilbert Arenas</td>\n      <td>28</td>\n      <td>WAS</td>\n      <td>0.411</td>\n      <td>4.2</td>\n      <td>7.2</td>\n      <td>1.3</td>\n      <td>0.3</td>\n      <td>3.7</td>\n      <td>22.6</td>\n      <td>2010</td>\n      <td>0</td>\n      <td>0.0</td>\n      <td>0.000</td>\n      <td>0.0</td>\n      <td>0.0</td>\n    </tr>\n    <tr>\n      <th>4</th>\n      <td>Trevor Ariza</td>\n      <td>24</td>\n      <td>HOU</td>\n      <td>0.394</td>\n      <td>5.6</td>\n      <td>3.8</td>\n      <td>1.8</td>\n      <td>0.6</td>\n      <td>2.2</td>\n      <td>14.9</td>\n      <td>2010</td>\n      <td>0</td>\n      <td>13.3</td>\n      <td>0.488</td>\n      <td>3.2</td>\n      <td>0.5</td>\n    </tr>\n  </tbody>\n</table>\n</div>"
     },
     "metadata": {},
     "execution_count": 276
    }
   ],
   "source": [
    "for i,r in data.iterrows():\n",
    "    ad = get_advanced(r['Player'], r['Year'])\n",
    "    if len(ad) != 0:\n",
    "        data.at[i, 'PER'] = ad[0]\n",
    "        data.at[i, 'TS%'] = ad[1]\n",
    "        data.at[i, 'WS'] = ad[2]\n",
    "        data.at[i, 'BPM'] = ad[3]\n",
    "data.head()"
   ]
  },
  {
   "source": [
    "## Step 4: Making the new model\n",
    "Now, we will create a random forest using the same method we used above, and see how it compares."
   ],
   "cell_type": "markdown",
   "metadata": {}
  },
  {
   "cell_type": "code",
   "execution_count": 277,
   "metadata": {},
   "outputs": [
    {
     "output_type": "execute_result",
     "data": {
      "text/plain": [
       "0.93042071197411"
      ]
     },
     "metadata": {},
     "execution_count": 277
    }
   ],
   "source": [
    "model2 = RandomForestClassifier()\n",
    "inputs = data.drop(columns=['Player','Tm','FG%','Year','All Star'])\n",
    "target = data['All Star']\n",
    "X_train, X_test, y_train, y_test = train_test_split(inputs, target, random_state=1, test_size= 0.3)\n",
    "model2.fit(X_train,y_train)\n",
    "y_pred = model2.predict(X_test)\n",
    "metrics.accuracy_score(y_test, y_pred)"
   ]
  },
  {
   "source": [
    "Unfortuanely, the accuracy is only slightly better. It appears that advnaced metrics aren't incredibly helpful for determing All Stars.  "
   ],
   "cell_type": "markdown",
   "metadata": {}
  },
  {
   "source": [
    "## Step 5: Predicting 2021's All Stars!\n",
    "\n",
    "We will now use our model to predict the All Stars for the upcoming NBA season. Using the same method we did above, import the players statistics for the 2021 season so far."
   ],
   "cell_type": "markdown",
   "metadata": {}
  },
  {
   "cell_type": "code",
   "execution_count": 278,
   "metadata": {},
   "outputs": [
    {
     "output_type": "execute_result",
     "data": {
      "text/plain": [
       "   index  Rk                              Player Pos  Age   Tm    FG%    3P%  \\\n",
       "0      0   1          Precious Achiuwa\\achiupr01   C   22  TOR  0.386  0.269   \n",
       "1      2   3               Bam Adebayo\\adebaba01   C   24  MIA  0.519  0.000   \n",
       "2      3   4              Santi Aldama\\aldamsa01  PF   21  MEM  0.364  0.111   \n",
       "3      4   5         LaMarcus Aldridge\\aldrila01   C   36  BRK  0.573  0.367   \n",
       "4      5   6  Nickeil Alexander-Walker\\alexani01  SG   23  NOP  0.366  0.310   \n",
       "\n",
       "    TRB  AST  STL  BLK  TOV   PTS  All Star %  \n",
       "0   8.2  1.6  0.5  0.6  1.1   8.0         0.0  \n",
       "1  10.2  3.2  1.1  0.3  2.9  18.7         0.0  \n",
       "2   2.6  0.8  0.1  0.2  0.3   3.6         0.0  \n",
       "3   5.7  0.9  0.4  1.2  0.8  14.0         0.0  \n",
       "4   3.9  2.6  1.0  0.4  1.5  13.5         0.0  "
      ],
      "text/html": "<div>\n<style scoped>\n    .dataframe tbody tr th:only-of-type {\n        vertical-align: middle;\n    }\n\n    .dataframe tbody tr th {\n        vertical-align: top;\n    }\n\n    .dataframe thead th {\n        text-align: right;\n    }\n</style>\n<table border=\"1\" class=\"dataframe\">\n  <thead>\n    <tr style=\"text-align: right;\">\n      <th></th>\n      <th>index</th>\n      <th>Rk</th>\n      <th>Player</th>\n      <th>Pos</th>\n      <th>Age</th>\n      <th>Tm</th>\n      <th>FG%</th>\n      <th>3P%</th>\n      <th>TRB</th>\n      <th>AST</th>\n      <th>STL</th>\n      <th>BLK</th>\n      <th>TOV</th>\n      <th>PTS</th>\n      <th>All Star %</th>\n    </tr>\n  </thead>\n  <tbody>\n    <tr>\n      <th>0</th>\n      <td>0</td>\n      <td>1</td>\n      <td>Precious Achiuwa\\achiupr01</td>\n      <td>C</td>\n      <td>22</td>\n      <td>TOR</td>\n      <td>0.386</td>\n      <td>0.269</td>\n      <td>8.2</td>\n      <td>1.6</td>\n      <td>0.5</td>\n      <td>0.6</td>\n      <td>1.1</td>\n      <td>8.0</td>\n      <td>0.0</td>\n    </tr>\n    <tr>\n      <th>1</th>\n      <td>2</td>\n      <td>3</td>\n      <td>Bam Adebayo\\adebaba01</td>\n      <td>C</td>\n      <td>24</td>\n      <td>MIA</td>\n      <td>0.519</td>\n      <td>0.000</td>\n      <td>10.2</td>\n      <td>3.2</td>\n      <td>1.1</td>\n      <td>0.3</td>\n      <td>2.9</td>\n      <td>18.7</td>\n      <td>0.0</td>\n    </tr>\n    <tr>\n      <th>2</th>\n      <td>3</td>\n      <td>4</td>\n      <td>Santi Aldama\\aldamsa01</td>\n      <td>PF</td>\n      <td>21</td>\n      <td>MEM</td>\n      <td>0.364</td>\n      <td>0.111</td>\n      <td>2.6</td>\n      <td>0.8</td>\n      <td>0.1</td>\n      <td>0.2</td>\n      <td>0.3</td>\n      <td>3.6</td>\n      <td>0.0</td>\n    </tr>\n    <tr>\n      <th>3</th>\n      <td>4</td>\n      <td>5</td>\n      <td>LaMarcus Aldridge\\aldrila01</td>\n      <td>C</td>\n      <td>36</td>\n      <td>BRK</td>\n      <td>0.573</td>\n      <td>0.367</td>\n      <td>5.7</td>\n      <td>0.9</td>\n      <td>0.4</td>\n      <td>1.2</td>\n      <td>0.8</td>\n      <td>14.0</td>\n      <td>0.0</td>\n    </tr>\n    <tr>\n      <th>4</th>\n      <td>5</td>\n      <td>6</td>\n      <td>Nickeil Alexander-Walker\\alexani01</td>\n      <td>SG</td>\n      <td>23</td>\n      <td>NOP</td>\n      <td>0.366</td>\n      <td>0.310</td>\n      <td>3.9</td>\n      <td>2.6</td>\n      <td>1.0</td>\n      <td>0.4</td>\n      <td>1.5</td>\n      <td>13.5</td>\n      <td>0.0</td>\n    </tr>\n  </tbody>\n</table>\n</div>"
     },
     "metadata": {},
     "execution_count": 278
    }
   ],
   "source": [
    "nba21 = pd.read_csv('NBA21.csv', sep=',')\n",
    "nba21['All Star %'] = 0.0\n",
    "nba21 = nba21.dropna()\n",
    "nba21 = nba21.reset_index()\n",
    "nba21.head()"
   ]
  },
  {
   "source": [
    "We have created another column labeled All Star %, which will indicate the players probability of making the All Star team based on our model.\n",
    "\n",
    "We will also add a column that contains which conference they are in, as the All Star teams consist of 12 players from each conference."
   ],
   "cell_type": "markdown",
   "metadata": {}
  },
  {
   "cell_type": "code",
   "execution_count": 279,
   "metadata": {},
   "outputs": [],
   "source": [
    "east = ['PHI', 'BRK', 'MIL', 'NYK', 'ATL', 'MIA', 'BOS', 'WAS','IND', 'CHA', 'CHI', 'TOR', 'CLE', 'ORL', 'DET']\n",
    "nba21['Conference'] = ''\n",
    "for i, r in nba21.iterrows():\n",
    "    if r['Tm'] in east:\n",
    "        nba21.at[i,'Conference'] = 'East'\n",
    "    else:\n",
    "        nba21.at[i,'Conference'] = 'West'"
   ]
  },
  {
   "source": [
    "Now, we will get the probabilities that each player has of making the All Star team. "
   ],
   "cell_type": "markdown",
   "metadata": {}
  },
  {
   "cell_type": "code",
   "execution_count": 280,
   "metadata": {},
   "outputs": [],
   "source": [
    "inputs = nba21.drop(columns=['Pos','Conference','Rk', 'Player', 'Tm', '3P%', 'All Star %', 'index'])\n",
    "inputs = inputs.dropna()\n",
    "probabilities = model.predict_proba(inputs)"
   ]
  },
  {
   "source": [
    "Probabilitis is now a 2d Array, where the first element is the probability a player does not make the All Star team, and the second element is the probabilty they will. \n",
    "\n",
    "We will now go through the nba 2021 dataframe, and add the probability the player will make the all Star team. We will store this data in a TSV file. "
   ],
   "cell_type": "markdown",
   "metadata": {}
  },
  {
   "cell_type": "code",
   "execution_count": 284,
   "metadata": {},
   "outputs": [],
   "source": [
    "for i,r in nba21.iterrows():\n",
    "    nba21.at[i,'All Star %'] = probabilities[i][1]\n",
    "    if i == 441:\n",
    "        break\n",
    "nba21 = nba21.sort_values(by=['Conference','All Star %'], ascending= False)\n",
    "nba21.to_csv('AllStarPredictions.tsv', sep='\\t')\n"
   ]
  },
  {
   "source": [
    "Now, in order to make our predictions, we will look at the top 12 players with the highest percent chance of making the All Star team in each conference. The results are as follows: \n",
    "\n"
   ],
   "cell_type": "markdown",
   "metadata": {}
  },
  {
   "source": [
    "WEST: "
   ],
   "cell_type": "markdown",
   "metadata": {}
  },
  {
   "source": [
    "\n",
    "1. Lebron James\n",
    "2. Karl Anothony-Towns\n",
    "3. Anothony Davis\n",
    "4. Luka Doncic\n",
    "5. Paul George\n",
    "6. Nikola Jokic\n",
    "7. Russel Westbrook\n",
    "8. Ja Morant\n",
    "9. Stephen Curry\n",
    "10. Donovan Mitchell \n",
    "11. Devin Booker\n",
    "12. Chris Paul\n",
    "\n"
   ],
   "cell_type": "markdown",
   "metadata": {}
  },
  {
   "source": [
    "EAST: "
   ],
   "cell_type": "markdown",
   "metadata": {}
  },
  {
   "source": [
    "1. Kevin Durant\n",
    "2. Joel Embiid\n",
    "3. Jimmy Butler\n",
    "4. James Harden\n",
    "5. Trae Young\n",
    "6. DeMar Derozen\n",
    "7. Zach Lavine\n",
    "8. Jason Tatus\n",
    "9. Damontis Sabonis\n",
    "10. Bradley Beal\n",
    "11. Darius Garland\n",
    "12. Jaylen Brown"
   ],
   "cell_type": "markdown",
   "metadata": {}
  },
  {
   "source": [
    "## Conclusion:\n",
    "\n",
    "We managed to make a model that predics at 93%, so I would say that that is pretty succesful. However, I do think there are several ways in which we can improve. As a good portion of All Stars are selected by fan vote, I think that taking into account a player's popularity would be a good metric to keep track of. One way in which we could do this is by scraping the players social media followers. \n",
    "\n",
    "Also, the model currently compares all the plaeyrs in the NBA together, where it should really be comparing the players only to those in their same conference. This can make a big difference in a year where the players in one conference are significantly better than the other. \n",
    "\n",
    "I hope that you learned a lot about Data Science through this walkthrough and saw how applicable it can be!\n"
   ],
   "cell_type": "markdown",
   "metadata": {}
  }
 ],
 "metadata": {
  "kernelspec": {
   "name": "python3",
   "display_name": "Python 3.9.7 64-bit",
   "metadata": {
    "interpreter": {
     "hash": "b8bdd4e700647ba2b08c59e5df8b7da1dcf50a218bcd4c1bcd9b3dc92e8788e5"
    }
   }
  },
  "language_info": {
   "codemirror_mode": {
    "name": "ipython",
    "version": 3
   },
   "file_extension": ".py",
   "mimetype": "text/x-python",
   "name": "python",
   "nbconvert_exporter": "python",
   "pygments_lexer": "ipython3",
   "version": "3.9.7-final"
  }
 },
 "nbformat": 4,
 "nbformat_minor": 5
}