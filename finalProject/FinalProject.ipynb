{
 "cells": [
  {
   "cell_type": "markdown",
   "id": "productive-contact",
   "metadata": {},
   "source": [
    "## What Does It Take To Be an NBA All-Star? \n",
    "## A Data Science Analysis\n",
    "## Samuel Frankel"
   ]
  },
  {
   "cell_type": "markdown",
   "id": "broken-summer",
   "metadata": {},
   "source": [
    "Ever since 1951, the NBA All-Star game has occurred annually. Twenty-four of the best players in the NBA are selected, by a mix of fan voting and head coaches, to compete in this prestigious game. (There can end up being more than 24, due to injuries). Each year, as the teams are announced, there is an abundance of discussion regarding the choices. Why did this player make it over this player? Why was this player chosen?I think that if we can look at the analytics behind which players are selected and which are left out, we can better understand the process, as well as make predictions on who will make it before the teams are even announced. \n",
    "\n",
    "The goal for this project is to create a model for predicting which players will be selected to the All Star team. We will collect players statistics from the past 10 years (2009-10 season until 2019-20 season), and look at which players made the all star teams which years, and use this to create a decision tree. The decision tree will be able to predict how likely a player is to be selected to the all star team based on their statistics. We will be analyzing our results throughout the project, to see where we can improve to get as accurate of a model as possible. "
   ]
  },
  {
   "cell_type": "markdown",
   "id": "affected-field",
   "metadata": {},
   "source": [
    "## Step 1: Getting the data"
   ]
  },
  {
   "cell_type": "code",
   "execution_count": 2,
   "id": "generic-chuck",
   "metadata": {},
   "outputs": [],
   "source": [
    "import pandas as pd\n",
    "import re\n",
    "import statsmodels.api as sm\n",
    "import statsmodels.formula.api as smf\n",
    "from sklearn.linear_model import LinearRegression\n"
   ]
  },
  {
   "cell_type": "code",
   "execution_count": 3,
   "id": "uniform-winter",
   "metadata": {},
   "outputs": [],
   "source": [
    "#Function that drops players who averaged less than 10 ppg\n",
    "def drop_under_10(data):\n",
    "    for i,r in data.iterrows():\n",
    "        if (r['PTS'] < 10.0):\n",
    "            data = data.drop(i)\n",
    "    return data\n",
    "\n",
    "data = pd.read_csv('NBA10.csv', sep=',')\n",
    "data['Year'] = 2010\n",
    "data = drop_under_10(data)\n",
    "\n",
    "data2 = pd.read_csv('NBA11.csv', sep=',')\n",
    "data2['Year'] = 2011\n",
    "data2 = drop_under_10(data2)\n",
    "data = pd.concat([data,data2])\n",
    "\n",
    "data2 = pd.read_csv('NBA12.csv', sep=',')\n",
    "data2['Year'] = 2012\n",
    "data2 = drop_under_10(data2)\n",
    "data = pd.concat([data,data2])\n",
    "\n",
    "data2 = pd.read_csv('NBA13.csv', sep=',')\n",
    "data2['Year'] = 2013\n",
    "data2 = drop_under_10(data2)\n",
    "data = pd.concat([data,data2])\n",
    "\n",
    "data2 = pd.read_csv('NBA14.csv', sep=',')\n",
    "data2['Year'] = 2014\n",
    "data2 = drop_under_10(data2)\n",
    "data = pd.concat([data,data2])\n",
    "\n",
    "data2 = pd.read_csv('NBA15.csv', sep=',')\n",
    "data2['Year'] = 2015\n",
    "data2 = drop_under_10(data2)\n",
    "data = pd.concat([data,data2])\n",
    "\n",
    "data2 = pd.read_csv('NBA16.csv', sep=',')\n",
    "data2['Year'] = 2016\n",
    "data2 = drop_under_10(data2)\n",
    "data = pd.concat([data,data2])\n",
    "\n",
    "data2 = pd.read_csv('NBA17.csv', sep=',')\n",
    "data2['Year'] = 2017\n",
    "data2 = drop_under_10(data2)\n",
    "data = pd.concat([data,data2])\n",
    "\n",
    "data2 = pd.read_csv('NBA18.csv', sep=',')\n",
    "data2['Year'] = 2018\n",
    "data2 = drop_under_10(data2)\n",
    "data = pd.concat([data,data2])\n",
    "\n",
    "data2 = pd.read_csv('NBA19.csv', sep=',')\n",
    "data2['Year'] = 2019\n",
    "data2 = drop_under_10(data2)\n",
    "data = pd.concat([data,data2])\n",
    "\n",
    "data2 = pd.read_csv('NBA20.csv', sep=',')\n",
    "data2['Year'] = 2020\n",
    "data2 = drop_under_10(data2)\n",
    "data = pd.concat([data,data2])\n",
    "\n",
    "data = data.reset_index(drop=True)"
   ]
  },
  {
   "cell_type": "code",
   "execution_count": 4,
   "id": "younger-rwanda",
   "metadata": {},
   "outputs": [],
   "source": [
    "#https://basketball.realgm.com/nba/allstar/game/rosters/2011\n",
    "allstars = pd.read_csv('AllStars10.csv', sep=',')\n",
    "allstars['Year'] = 2010 \n",
    "\n",
    "allstars2 = pd.read_csv('AllStars11.csv', sep=',')\n",
    "allstars2['Year'] = 2011\n",
    "allstars = pd.concat([allstars, allstars2])\n",
    "\n",
    "allstars2 = pd.read_csv('AllStars12.csv', sep=',')\n",
    "allstars2['Year'] = 2012\n",
    "allstars = pd.concat([allstars, allstars2])\n",
    "\n",
    "allstars2 = pd.read_csv('AllStars13.csv', sep=',')\n",
    "allstars2['Year'] = 2013\n",
    "allstars = pd.concat([allstars, allstars2])\n",
    "\n",
    "allstars2 = pd.read_csv('AllStars14.csv', sep=',')\n",
    "allstars2['Year'] = 2014\n",
    "allstars = pd.concat([allstars, allstars2])\n",
    "\n",
    "allstars2 = pd.read_csv('AllStars15.csv', sep=',')\n",
    "allstars2['Year'] = 2015\n",
    "allstars = pd.concat([allstars, allstars2])\n",
    "\n",
    "allstars2 = pd.read_csv('AllStars16.csv', sep=',')\n",
    "allstars2['Year'] = 2016\n",
    "allstars = pd.concat([allstars, allstars2])\n",
    "\n",
    "allstars2 = pd.read_csv('AllStars17.csv', sep=',')\n",
    "allstars2['Year'] = 2017\n",
    "allstars = pd.concat([allstars, allstars2])\n",
    "\n",
    "allstars2 = pd.read_csv('AllStars17.csv', sep=',')\n",
    "allstars2['Year'] = 2017\n",
    "allstars = pd.concat([allstars, allstars2])\n",
    "\n",
    "allstars2 = pd.read_csv('AllStars18.csv', sep=',')\n",
    "allstars2['Year'] = 2018\n",
    "allstars = pd.concat([allstars, allstars2])\n",
    "\n",
    "allstars2 = pd.read_csv('AllStars19.csv', sep=',')\n",
    "allstars2['Year'] = 2019\n",
    "allstars = pd.concat([allstars, allstars2])\n",
    "\n",
    "allstars2 = pd.read_csv('AllStars20.csv', sep=',')\n",
    "allstars2['Year'] = 2020\n",
    "allstars = pd.concat([allstars, allstars2])\n"
   ]
  },
  {
   "cell_type": "code",
   "execution_count": 5,
   "id": "5487c58b",
   "metadata": {},
   "outputs": [],
   "source": [
    "data['All Star'] = 0\n",
    "def was_allstar(name, year):\n",
    "    for i, r in allstars.iterrows():\n",
    "        if (r['Player'] in name and year == r['Year']):\n",
    "            return True \n",
    "for i, r in data.iterrows():\n",
    "    if (was_allstar(r['Player'], r['Year'])):\n",
    "        data.at[i, 'All Star'] = 1\n"
   ]
  },
  {
   "cell_type": "code",
   "execution_count": 6,
   "id": "4accd3d8",
   "metadata": {},
   "outputs": [],
   "source": [
    "# Cleaning out the names\n",
    "for i, r in data.iterrows():\n",
    "    if re.search(r'\\\\[a-z]', data.at[i, 'Player']):\n",
    "       name = re.split(r'\\\\[a-z]', data.at[i, 'Player'])\n",
    "       data.at[i,'Player'] = name[0] "
   ]
  },
  {
   "cell_type": "code",
   "execution_count": 7,
   "metadata": {},
   "outputs": [],
   "source": [
    "data.to_csv('PlayerStats.csv', sep='\\t')"
   ]
  },
  {
   "cell_type": "code",
   "execution_count": 8,
   "metadata": {},
   "outputs": [],
   "source": [
    "data = data.drop(columns=['Pos', 'Rk', 'G', 'GS', 'MP', 'FG', 'FGA', '3P', '3P%', '2P', '2PA', '2P%', '3PA', 'eFG%', 'FT', 'FTA', 'FT%', 'ORB', 'DRB', 'PF'])"
   ]
  },
  {
   "cell_type": "code",
   "execution_count": 9,
   "metadata": {},
   "outputs": [],
   "source": [
    "from sklearn import tree\n",
    "from sklearn.model_selection import train_test_split\n",
    "from sklearn import metrics\n",
    "from sklearn.ensemble import RandomForestClassifier"
   ]
  },
  {
   "cell_type": "code",
   "execution_count": 10,
   "metadata": {},
   "outputs": [
    {
     "output_type": "execute_result",
     "data": {
      "text/plain": [
       "RandomForestClassifier()"
      ]
     },
     "metadata": {},
     "execution_count": 10
    }
   ],
   "source": [
    "model = RandomForestClassifier()\n",
    "inputs = data.drop(columns=['Player','Tm','Year','All Star'])\n",
    "target = data['All Star']\n",
    "X_train, X_test, y_train, y_test = train_test_split(inputs, target, random_state=1, test_size= 0.3)\n",
    "model.fit(X_train,y_train)\n"
   ]
  },
  {
   "cell_type": "code",
   "execution_count": 11,
   "metadata": {},
   "outputs": [],
   "source": [
    "y_pred = model.predict(X_test)"
   ]
  },
  {
   "cell_type": "code",
   "execution_count": 12,
   "metadata": {},
   "outputs": [
    {
     "output_type": "execute_result",
     "data": {
      "text/plain": [
       "0.9142394822006472"
      ]
     },
     "metadata": {},
     "execution_count": 12
    }
   ],
   "source": [
    "metrics.accuracy_score(y_test, y_pred)"
   ]
  },
  {
   "cell_type": "code",
   "execution_count": 13,
   "metadata": {},
   "outputs": [
    {
     "output_type": "execute_result",
     "data": {
      "text/plain": [
       "   Rk                       Player Pos  Age   Tm    FG%    3P%   TRB  AST  \\\n",
       "0   1   Precious Achiuwa\\achiupr01   C   22  TOR  0.386  0.269   8.2  1.6   \n",
       "1   2       Steven Adams\\adamsst01   C   28  MEM  0.535    NaN   8.8  2.6   \n",
       "2   3        Bam Adebayo\\adebaba01   C   24  MIA  0.519  0.000  10.2  3.2   \n",
       "3   4       Santi Aldama\\aldamsa01  PF   21  MEM  0.364  0.111   2.6  0.8   \n",
       "4   5  LaMarcus Aldridge\\aldrila01   C   36  BRK  0.573  0.367   5.7  0.9   \n",
       "\n",
       "   STL  BLK  TOV   PTS  All Star %  \n",
       "0  0.5  0.6  1.1   8.0         0.0  \n",
       "1  0.9  0.6  1.8   7.0         0.0  \n",
       "2  1.1  0.3  2.9  18.7         0.0  \n",
       "3  0.1  0.2  0.3   3.6         0.0  \n",
       "4  0.4  1.2  0.8  14.0         0.0  "
      ],
      "text/html": "<div>\n<style scoped>\n    .dataframe tbody tr th:only-of-type {\n        vertical-align: middle;\n    }\n\n    .dataframe tbody tr th {\n        vertical-align: top;\n    }\n\n    .dataframe thead th {\n        text-align: right;\n    }\n</style>\n<table border=\"1\" class=\"dataframe\">\n  <thead>\n    <tr style=\"text-align: right;\">\n      <th></th>\n      <th>Rk</th>\n      <th>Player</th>\n      <th>Pos</th>\n      <th>Age</th>\n      <th>Tm</th>\n      <th>FG%</th>\n      <th>3P%</th>\n      <th>TRB</th>\n      <th>AST</th>\n      <th>STL</th>\n      <th>BLK</th>\n      <th>TOV</th>\n      <th>PTS</th>\n      <th>All Star %</th>\n    </tr>\n  </thead>\n  <tbody>\n    <tr>\n      <th>0</th>\n      <td>1</td>\n      <td>Precious Achiuwa\\achiupr01</td>\n      <td>C</td>\n      <td>22</td>\n      <td>TOR</td>\n      <td>0.386</td>\n      <td>0.269</td>\n      <td>8.2</td>\n      <td>1.6</td>\n      <td>0.5</td>\n      <td>0.6</td>\n      <td>1.1</td>\n      <td>8.0</td>\n      <td>0.0</td>\n    </tr>\n    <tr>\n      <th>1</th>\n      <td>2</td>\n      <td>Steven Adams\\adamsst01</td>\n      <td>C</td>\n      <td>28</td>\n      <td>MEM</td>\n      <td>0.535</td>\n      <td>NaN</td>\n      <td>8.8</td>\n      <td>2.6</td>\n      <td>0.9</td>\n      <td>0.6</td>\n      <td>1.8</td>\n      <td>7.0</td>\n      <td>0.0</td>\n    </tr>\n    <tr>\n      <th>2</th>\n      <td>3</td>\n      <td>Bam Adebayo\\adebaba01</td>\n      <td>C</td>\n      <td>24</td>\n      <td>MIA</td>\n      <td>0.519</td>\n      <td>0.000</td>\n      <td>10.2</td>\n      <td>3.2</td>\n      <td>1.1</td>\n      <td>0.3</td>\n      <td>2.9</td>\n      <td>18.7</td>\n      <td>0.0</td>\n    </tr>\n    <tr>\n      <th>3</th>\n      <td>4</td>\n      <td>Santi Aldama\\aldamsa01</td>\n      <td>PF</td>\n      <td>21</td>\n      <td>MEM</td>\n      <td>0.364</td>\n      <td>0.111</td>\n      <td>2.6</td>\n      <td>0.8</td>\n      <td>0.1</td>\n      <td>0.2</td>\n      <td>0.3</td>\n      <td>3.6</td>\n      <td>0.0</td>\n    </tr>\n    <tr>\n      <th>4</th>\n      <td>5</td>\n      <td>LaMarcus Aldridge\\aldrila01</td>\n      <td>C</td>\n      <td>36</td>\n      <td>BRK</td>\n      <td>0.573</td>\n      <td>0.367</td>\n      <td>5.7</td>\n      <td>0.9</td>\n      <td>0.4</td>\n      <td>1.2</td>\n      <td>0.8</td>\n      <td>14.0</td>\n      <td>0.0</td>\n    </tr>\n  </tbody>\n</table>\n</div>"
     },
     "metadata": {},
     "execution_count": 13
    }
   ],
   "source": [
    "nba21 = pd.read_csv('NBA21.csv', sep=',')\n",
    "nba21['All Star %'] = 0.0\n",
    "nba21.head()\n"
   ]
  },
  {
   "cell_type": "code",
   "execution_count": 14,
   "metadata": {},
   "outputs": [],
   "source": [
    "nba21 = nba21.dropna()\n",
    "inputs = nba21.drop(columns=['Pos','Rk', 'Player', 'Tm', '3P%', 'All Star %'])\n",
    "inputs = inputs.dropna()"
   ]
  },
  {
   "cell_type": "code",
   "execution_count": 15,
   "metadata": {},
   "outputs": [],
   "source": [
    "probabilities = model.predict_proba(inputs)\n"
   ]
  },
  {
   "cell_type": "code",
   "execution_count": 16,
   "metadata": {},
   "outputs": [],
   "source": [
    "nba21 = nba21.dropna()\n",
    "nba21 = nba21.reset_index()\n",
    "for i,r in nba21.iterrows():\n",
    "    nba21.at[i,'All Star %'] = probabilities[i][1]\n",
    "    if i == 441:\n",
    "        break\n"
   ]
  },
  {
   "cell_type": "code",
   "execution_count": 17,
   "metadata": {},
   "outputs": [],
   "source": [
    "east = ['PHI', 'BRK', 'MIL', 'NYK', 'ATL', 'MIA', 'BOS', 'WAS','IND', 'CHA', 'CHI', 'TOR', 'CLE', 'ORL', 'DET']\n",
    "nba21['Conference'] = ''\n",
    "for i, r in nba21.iterrows():\n",
    "    if r['Tm'] in east:\n",
    "        nba21.at[i,'Conference'] = 'East'\n",
    "    else:\n",
    "        nba21.at[i,'Conference'] = 'West'"
   ]
  },
  {
   "cell_type": "code",
   "execution_count": 18,
   "metadata": {},
   "outputs": [],
   "source": [
    "nba21 = nba21.sort_values(by=['Conference','All Star %'], ascending= False)\n",
    "nba21.to_csv('AllStarPredictions.csv', sep='\\t')"
   ]
  },
  {
   "source": [
    "## Adding advanced stats to our model \n"
   ],
   "cell_type": "markdown",
   "metadata": {}
  },
  {
   "cell_type": "code",
   "execution_count": 118,
   "metadata": {},
   "outputs": [],
   "source": [
    "def drop_under_50(data):\n",
    "    for i,r in data.iterrows():\n",
    "        if r['G'] < 50:\n",
    "            data = data.drop(i)\n",
    "    return data"
   ]
  },
  {
   "cell_type": "code",
   "execution_count": 119,
   "metadata": {},
   "outputs": [],
   "source": [
    "advanced = pd.read_csv('Advanced10.csv')\n",
    "advanced['Year'] = 2010\n",
    "advanced = drop_under_41(advanced)\n",
    "advanced = advanced[['Player', 'PER', 'TS%', 'WS', 'BPM', 'Year']]"
   ]
  },
  {
   "cell_type": "code",
   "execution_count": 120,
   "metadata": {},
   "outputs": [],
   "source": [
    "advanced2 = pd.read_csv('Advanced11.csv')\n",
    "advanced2['Year'] = 2011\n",
    "advanced2 = drop_under_41(advanced2)\n",
    "advanced2 = advanced2[['Player', 'PER', 'TS%', 'WS', 'BPM', 'Year']]\n",
    "\n",
    "# Combining the dataframes\n",
    "advanced = pd.concat([advanced, advanced2])\n",
    "\n",
    "advanced2 = pd.read_csv('Advanced12.csv')\n",
    "advanced2['Year'] = 2012\n",
    "advanced2 = drop_under_41(advanced2)\n",
    "advanced2 = advanced2[['Player', 'PER', 'TS%', 'WS', 'BPM', 'Year']]\n",
    "advanced = pd.concat([advanced, advanced2])\n",
    "\n",
    "\n",
    "advanced2 = pd.read_csv('Advanced12.csv')\n",
    "advanced2['Year'] = 2013\n",
    "advanced2 = drop_under_41(advanced2)\n",
    "advanced2 = advanced2[['Player', 'PER', 'TS%', 'WS', 'BPM', 'Year']]\n",
    "advanced = pd.concat([advanced, advanced2])\n",
    "\n",
    "\n",
    "advanced2 = pd.read_csv('Advanced14.csv')\n",
    "advanced2['Year'] = 2014\n",
    "advanced2 = drop_under_41(advanced2)\n",
    "advanced2 = advanced2[['Player', 'PER', 'TS%', 'WS', 'BPM', 'Year']]\n",
    "advanced = pd.concat([advanced, advanced2])\n",
    "\n",
    "\n",
    "advanced2 = pd.read_csv('Advanced15.csv')\n",
    "advanced2['Year'] = 2015\n",
    "advanced2 = drop_under_41(advanced2)\n",
    "advanced2 = advanced2[['Player', 'PER', 'TS%', 'WS', 'BPM', 'Year']]\n",
    "advanced = pd.concat([advanced, advanced2])\n",
    "\n",
    "\n",
    "advanced2 = pd.read_csv('Advanced16.csv')\n",
    "advanced2['Year'] = 2016\n",
    "advanced2 = drop_under_41(advanced2)\n",
    "advanced2 = advanced2[['Player', 'PER', 'TS%', 'WS', 'BPM', 'Year']]\n",
    "advanced = pd.concat([advanced, advanced2])\n",
    "\n",
    "\n",
    "advanced2 = pd.read_csv('Advanced17.csv')\n",
    "advanced2['Year'] = 2017\n",
    "advanced2 = drop_under_41(advanced2)\n",
    "advanced2 = advanced2[['Player', 'PER', 'TS%', 'WS', 'BPM', 'Year']]\n",
    "advanced = pd.concat([advanced, advanced2])\n",
    "\n",
    "\n",
    "advanced2 = pd.read_csv('Advanced18.csv')\n",
    "advanced2['Year'] = 2018\n",
    "advanced2 = drop_under_41(advanced2)\n",
    "advanced2 = advanced2[['Player', 'PER', 'TS%', 'WS', 'BPM', 'Year']]\n",
    "advanced = pd.concat([advanced, advanced2])\n",
    "\n",
    "\n",
    "advanced2 = pd.read_csv('Advanced19.csv')\n",
    "advanced2['Year'] = 2019\n",
    "advanced2 = drop_under_41(advanced2)\n",
    "advanced2 = advanced2[['Player', 'PER', 'TS%', 'WS', 'BPM', 'Year']]\n",
    "advanced = pd.concat([advanced, advanced2])\n",
    "\n",
    "\n",
    "advanced2 = pd.read_csv('Advanced20.csv')\n",
    "advanced2['Year'] = 2020\n",
    "advanced2 = drop_under_41(advanced2)\n",
    "advanced2 = advanced2[['Player', 'PER', 'TS%', 'WS', 'BPM', 'Year']]\n",
    "advanced = pd.concat([advanced, advanced2])\n",
    "\n",
    "advanced = advanced.reset_index()\n",
    "for i, r in advanced.iterrows():\n",
    "    if re.search(r'\\\\[a-z]', advanced.at[i, 'Player']):\n",
    "       name = re.split(r'\\\\[a-z]', advanced.at[i, 'Player'])\n",
    "       advanced.at[i,'Player'] = name[0] \n",
    "       \n"
   ]
  },
  {
   "cell_type": "code",
   "execution_count": 121,
   "metadata": {},
   "outputs": [
    {
     "output_type": "execute_result",
     "data": {
      "text/plain": [
       "                 Player  Age   Tm    FG%  TRB  AST  STL  BLK  TOV   PTS  Year  \\\n",
       "0     LaMarcus Aldridge   24  POR  0.495  8.0  2.1  0.9  0.6  1.3  17.9  2010   \n",
       "1            Ray Allen*   34  BOS  0.477  3.2  2.6  0.8  0.3  1.6  16.3  2010   \n",
       "2       Carmelo Anthony   25  DEN  0.458  6.6  3.2  1.3  0.4  3.0  28.2  2010   \n",
       "3        Gilbert Arenas   28  WAS  0.411  4.2  7.2  1.3  0.3  3.7  22.6  2010   \n",
       "4          Trevor Ariza   24  HOU  0.394  5.6  3.8  1.8  0.6  2.2  14.9  2010   \n",
       "...                 ...  ...  ...    ...  ...  ...  ...  ...  ...   ...   ...   \n",
       "2052    Justise Winslow   23  MIA  0.388  6.6  4.0  0.6  0.5  2.2  11.3  2020   \n",
       "2053     Christian Wood   24  DET  0.567  6.3  1.0  0.5  0.9  1.4  13.1  2020   \n",
       "2054     Thaddeus Young   31  CHI  0.448  4.9  1.8  1.4  0.4  1.6  10.3  2020   \n",
       "2055         Trae Young   21  ATL  0.437  4.3  9.3  1.1  0.1  4.8  29.6  2020   \n",
       "2056        Cody Zeller   27  CHO  0.524  7.1  1.5  0.7  0.4  1.3  11.1  2020   \n",
       "\n",
       "      All Star  PER  TS%   WS  BPM  \n",
       "0            0  0.0  0.0  0.0  0.0  \n",
       "1            0  0.0  0.0  0.0  0.0  \n",
       "2            1  0.0  0.0  0.0  0.0  \n",
       "3            0  0.0  0.0  0.0  0.0  \n",
       "4            0  0.0  0.0  0.0  0.0  \n",
       "...        ...  ...  ...  ...  ...  \n",
       "2052         0  0.0  0.0  0.0  0.0  \n",
       "2053         0  0.0  0.0  0.0  0.0  \n",
       "2054         0  0.0  0.0  0.0  0.0  \n",
       "2055         1  0.0  0.0  0.0  0.0  \n",
       "2056         0  0.0  0.0  0.0  0.0  \n",
       "\n",
       "[2057 rows x 16 columns]"
      ],
      "text/html": "<div>\n<style scoped>\n    .dataframe tbody tr th:only-of-type {\n        vertical-align: middle;\n    }\n\n    .dataframe tbody tr th {\n        vertical-align: top;\n    }\n\n    .dataframe thead th {\n        text-align: right;\n    }\n</style>\n<table border=\"1\" class=\"dataframe\">\n  <thead>\n    <tr style=\"text-align: right;\">\n      <th></th>\n      <th>Player</th>\n      <th>Age</th>\n      <th>Tm</th>\n      <th>FG%</th>\n      <th>TRB</th>\n      <th>AST</th>\n      <th>STL</th>\n      <th>BLK</th>\n      <th>TOV</th>\n      <th>PTS</th>\n      <th>Year</th>\n      <th>All Star</th>\n      <th>PER</th>\n      <th>TS%</th>\n      <th>WS</th>\n      <th>BPM</th>\n    </tr>\n  </thead>\n  <tbody>\n    <tr>\n      <th>0</th>\n      <td>LaMarcus Aldridge</td>\n      <td>24</td>\n      <td>POR</td>\n      <td>0.495</td>\n      <td>8.0</td>\n      <td>2.1</td>\n      <td>0.9</td>\n      <td>0.6</td>\n      <td>1.3</td>\n      <td>17.9</td>\n      <td>2010</td>\n      <td>0</td>\n      <td>0.0</td>\n      <td>0.0</td>\n      <td>0.0</td>\n      <td>0.0</td>\n    </tr>\n    <tr>\n      <th>1</th>\n      <td>Ray Allen*</td>\n      <td>34</td>\n      <td>BOS</td>\n      <td>0.477</td>\n      <td>3.2</td>\n      <td>2.6</td>\n      <td>0.8</td>\n      <td>0.3</td>\n      <td>1.6</td>\n      <td>16.3</td>\n      <td>2010</td>\n      <td>0</td>\n      <td>0.0</td>\n      <td>0.0</td>\n      <td>0.0</td>\n      <td>0.0</td>\n    </tr>\n    <tr>\n      <th>2</th>\n      <td>Carmelo Anthony</td>\n      <td>25</td>\n      <td>DEN</td>\n      <td>0.458</td>\n      <td>6.6</td>\n      <td>3.2</td>\n      <td>1.3</td>\n      <td>0.4</td>\n      <td>3.0</td>\n      <td>28.2</td>\n      <td>2010</td>\n      <td>1</td>\n      <td>0.0</td>\n      <td>0.0</td>\n      <td>0.0</td>\n      <td>0.0</td>\n    </tr>\n    <tr>\n      <th>3</th>\n      <td>Gilbert Arenas</td>\n      <td>28</td>\n      <td>WAS</td>\n      <td>0.411</td>\n      <td>4.2</td>\n      <td>7.2</td>\n      <td>1.3</td>\n      <td>0.3</td>\n      <td>3.7</td>\n      <td>22.6</td>\n      <td>2010</td>\n      <td>0</td>\n      <td>0.0</td>\n      <td>0.0</td>\n      <td>0.0</td>\n      <td>0.0</td>\n    </tr>\n    <tr>\n      <th>4</th>\n      <td>Trevor Ariza</td>\n      <td>24</td>\n      <td>HOU</td>\n      <td>0.394</td>\n      <td>5.6</td>\n      <td>3.8</td>\n      <td>1.8</td>\n      <td>0.6</td>\n      <td>2.2</td>\n      <td>14.9</td>\n      <td>2010</td>\n      <td>0</td>\n      <td>0.0</td>\n      <td>0.0</td>\n      <td>0.0</td>\n      <td>0.0</td>\n    </tr>\n    <tr>\n      <th>...</th>\n      <td>...</td>\n      <td>...</td>\n      <td>...</td>\n      <td>...</td>\n      <td>...</td>\n      <td>...</td>\n      <td>...</td>\n      <td>...</td>\n      <td>...</td>\n      <td>...</td>\n      <td>...</td>\n      <td>...</td>\n      <td>...</td>\n      <td>...</td>\n      <td>...</td>\n      <td>...</td>\n    </tr>\n    <tr>\n      <th>2052</th>\n      <td>Justise Winslow</td>\n      <td>23</td>\n      <td>MIA</td>\n      <td>0.388</td>\n      <td>6.6</td>\n      <td>4.0</td>\n      <td>0.6</td>\n      <td>0.5</td>\n      <td>2.2</td>\n      <td>11.3</td>\n      <td>2020</td>\n      <td>0</td>\n      <td>0.0</td>\n      <td>0.0</td>\n      <td>0.0</td>\n      <td>0.0</td>\n    </tr>\n    <tr>\n      <th>2053</th>\n      <td>Christian Wood</td>\n      <td>24</td>\n      <td>DET</td>\n      <td>0.567</td>\n      <td>6.3</td>\n      <td>1.0</td>\n      <td>0.5</td>\n      <td>0.9</td>\n      <td>1.4</td>\n      <td>13.1</td>\n      <td>2020</td>\n      <td>0</td>\n      <td>0.0</td>\n      <td>0.0</td>\n      <td>0.0</td>\n      <td>0.0</td>\n    </tr>\n    <tr>\n      <th>2054</th>\n      <td>Thaddeus Young</td>\n      <td>31</td>\n      <td>CHI</td>\n      <td>0.448</td>\n      <td>4.9</td>\n      <td>1.8</td>\n      <td>1.4</td>\n      <td>0.4</td>\n      <td>1.6</td>\n      <td>10.3</td>\n      <td>2020</td>\n      <td>0</td>\n      <td>0.0</td>\n      <td>0.0</td>\n      <td>0.0</td>\n      <td>0.0</td>\n    </tr>\n    <tr>\n      <th>2055</th>\n      <td>Trae Young</td>\n      <td>21</td>\n      <td>ATL</td>\n      <td>0.437</td>\n      <td>4.3</td>\n      <td>9.3</td>\n      <td>1.1</td>\n      <td>0.1</td>\n      <td>4.8</td>\n      <td>29.6</td>\n      <td>2020</td>\n      <td>1</td>\n      <td>0.0</td>\n      <td>0.0</td>\n      <td>0.0</td>\n      <td>0.0</td>\n    </tr>\n    <tr>\n      <th>2056</th>\n      <td>Cody Zeller</td>\n      <td>27</td>\n      <td>CHO</td>\n      <td>0.524</td>\n      <td>7.1</td>\n      <td>1.5</td>\n      <td>0.7</td>\n      <td>0.4</td>\n      <td>1.3</td>\n      <td>11.1</td>\n      <td>2020</td>\n      <td>0</td>\n      <td>0.0</td>\n      <td>0.0</td>\n      <td>0.0</td>\n      <td>0.0</td>\n    </tr>\n  </tbody>\n</table>\n<p>2057 rows × 16 columns</p>\n</div>"
     },
     "metadata": {},
     "execution_count": 121
    }
   ],
   "source": [
    "data['PER'] = 0.0\n",
    "data['TS%'] = 0.0\n",
    "data['WS'] = 0.0\n",
    "data['BPM'] = 0.0\n",
    "data"
   ]
  },
  {
   "cell_type": "code",
   "execution_count": 185,
   "metadata": {},
   "outputs": [],
   "source": [
    "def get_advanced(player, year):\n",
    "    stats = advanced.query('Player == @player and Year == @year')\n",
    "    if (not stats.empty):\n",
    "        stats = stats.reset_index()\n",
    "        return (stats.at[0,'PER'], stats.at[0,'TS%'], stats.at[0, 'WS'], stats.at[0, 'BPM'])\n",
    "    else:\n",
    "        return ()\n",
    "\n"
   ]
  },
  {
   "cell_type": "code",
   "execution_count": 191,
   "metadata": {},
   "outputs": [
    {
     "output_type": "execute_result",
     "data": {
      "text/plain": [
       "              Player  Age   Tm    FG%  TRB  AST  STL  BLK  TOV   PTS  Year  \\\n",
       "0  LaMarcus Aldridge   24  POR  0.495  8.0  2.1  0.9  0.6  1.3  17.9  2010   \n",
       "1         Ray Allen*   34  BOS  0.477  3.2  2.6  0.8  0.3  1.6  16.3  2010   \n",
       "2    Carmelo Anthony   25  DEN  0.458  6.6  3.2  1.3  0.4  3.0  28.2  2010   \n",
       "3     Gilbert Arenas   28  WAS  0.411  4.2  7.2  1.3  0.3  3.7  22.6  2010   \n",
       "4       Trevor Ariza   24  HOU  0.394  5.6  3.8  1.8  0.6  2.2  14.9  2010   \n",
       "\n",
       "   All Star   PER    TS%   WS  BPM  \n",
       "0         0  18.2  0.535  8.8  1.2  \n",
       "1         0  15.2  0.601  7.9  1.2  \n",
       "2         1  22.2  0.548  7.9  2.3  \n",
       "3         0   0.0  0.000  0.0  0.0  \n",
       "4         0  13.3  0.488  3.2  0.5  "
      ],
      "text/html": "<div>\n<style scoped>\n    .dataframe tbody tr th:only-of-type {\n        vertical-align: middle;\n    }\n\n    .dataframe tbody tr th {\n        vertical-align: top;\n    }\n\n    .dataframe thead th {\n        text-align: right;\n    }\n</style>\n<table border=\"1\" class=\"dataframe\">\n  <thead>\n    <tr style=\"text-align: right;\">\n      <th></th>\n      <th>Player</th>\n      <th>Age</th>\n      <th>Tm</th>\n      <th>FG%</th>\n      <th>TRB</th>\n      <th>AST</th>\n      <th>STL</th>\n      <th>BLK</th>\n      <th>TOV</th>\n      <th>PTS</th>\n      <th>Year</th>\n      <th>All Star</th>\n      <th>PER</th>\n      <th>TS%</th>\n      <th>WS</th>\n      <th>BPM</th>\n    </tr>\n  </thead>\n  <tbody>\n    <tr>\n      <th>0</th>\n      <td>LaMarcus Aldridge</td>\n      <td>24</td>\n      <td>POR</td>\n      <td>0.495</td>\n      <td>8.0</td>\n      <td>2.1</td>\n      <td>0.9</td>\n      <td>0.6</td>\n      <td>1.3</td>\n      <td>17.9</td>\n      <td>2010</td>\n      <td>0</td>\n      <td>18.2</td>\n      <td>0.535</td>\n      <td>8.8</td>\n      <td>1.2</td>\n    </tr>\n    <tr>\n      <th>1</th>\n      <td>Ray Allen*</td>\n      <td>34</td>\n      <td>BOS</td>\n      <td>0.477</td>\n      <td>3.2</td>\n      <td>2.6</td>\n      <td>0.8</td>\n      <td>0.3</td>\n      <td>1.6</td>\n      <td>16.3</td>\n      <td>2010</td>\n      <td>0</td>\n      <td>15.2</td>\n      <td>0.601</td>\n      <td>7.9</td>\n      <td>1.2</td>\n    </tr>\n    <tr>\n      <th>2</th>\n      <td>Carmelo Anthony</td>\n      <td>25</td>\n      <td>DEN</td>\n      <td>0.458</td>\n      <td>6.6</td>\n      <td>3.2</td>\n      <td>1.3</td>\n      <td>0.4</td>\n      <td>3.0</td>\n      <td>28.2</td>\n      <td>2010</td>\n      <td>1</td>\n      <td>22.2</td>\n      <td>0.548</td>\n      <td>7.9</td>\n      <td>2.3</td>\n    </tr>\n    <tr>\n      <th>3</th>\n      <td>Gilbert Arenas</td>\n      <td>28</td>\n      <td>WAS</td>\n      <td>0.411</td>\n      <td>4.2</td>\n      <td>7.2</td>\n      <td>1.3</td>\n      <td>0.3</td>\n      <td>3.7</td>\n      <td>22.6</td>\n      <td>2010</td>\n      <td>0</td>\n      <td>0.0</td>\n      <td>0.000</td>\n      <td>0.0</td>\n      <td>0.0</td>\n    </tr>\n    <tr>\n      <th>4</th>\n      <td>Trevor Ariza</td>\n      <td>24</td>\n      <td>HOU</td>\n      <td>0.394</td>\n      <td>5.6</td>\n      <td>3.8</td>\n      <td>1.8</td>\n      <td>0.6</td>\n      <td>2.2</td>\n      <td>14.9</td>\n      <td>2010</td>\n      <td>0</td>\n      <td>13.3</td>\n      <td>0.488</td>\n      <td>3.2</td>\n      <td>0.5</td>\n    </tr>\n  </tbody>\n</table>\n</div>"
     },
     "metadata": {},
     "execution_count": 191
    }
   ],
   "source": [
    "for i,r in data.iterrows():\n",
    "    ad = get_advanced(r['Player'], r['Year'])\n",
    "    if len(ad) != 0:\n",
    "        data.at[i, 'PER'] = ad[0]\n",
    "        data.at[i, 'TS%'] = ad[1]\n",
    "        data.at[i, 'WS'] = ad[2]\n",
    "        data.at[i, 'BPM'] = ad[3]\n",
    "data.head()"
   ]
  },
  {
   "cell_type": "code",
   "execution_count": 193,
   "metadata": {},
   "outputs": [
    {
     "output_type": "execute_result",
     "data": {
      "text/plain": [
       "0.9255663430420712"
      ]
     },
     "metadata": {},
     "execution_count": 193
    }
   ],
   "source": [
    "model = RandomForestClassifier()\n",
    "inputs = data.drop(columns=['Player','Tm','FG%','Year','All Star'])\n",
    "target = data['All Star']\n",
    "X_train, X_test, y_train, y_test = train_test_split(inputs, target, random_state=1, test_size= 0.3)\n",
    "model.fit(X_train,y_train)\n",
    "y_pred = model.predict(X_test)\n",
    "metrics.accuracy_score(y_test, y_pred)"
   ]
  },
  {
   "cell_type": "code",
   "execution_count": 197,
   "metadata": {},
   "outputs": [],
   "source": [
    "nba21 = pd.read_csv('NBA21.csv', sep=',')\n",
    "nba21['All Star %'] = 0.0\n",
    "nba21.head()\n",
    "nba21 = nba21.dropna()\n",
    "nba21 = nba21.reset_index()\n",
    "for i,r in nba21.iterrows():\n",
    "    nba21.at[i,'All Star %'] = probabilities[i][1]\n",
    "    if i == 441:\n",
    "        break\n",
    "east = ['PHI', 'BRK', 'MIL', 'NYK', 'ATL', 'MIA', 'BOS', 'WAS','IND', 'CHA', 'CHI', 'TOR', 'CLE', 'ORL', 'DET']\n",
    "nba21['Conference'] = ''\n",
    "for i, r in nba21.iterrows():\n",
    "    if r['Tm'] in east:\n",
    "        nba21.at[i,'Conference'] = 'East'\n",
    "    else:\n",
    "        nba21.at[i,'Conference'] = 'West'\n",
    "nba21 = nba21.sort_values(by=['Conference','All Star %'], ascending= False)\n",
    "nba21.to_csv('AllStarPredictions.csv', sep='\\t')\n"
   ]
  },
  {
   "cell_type": "code",
   "execution_count": 196,
   "metadata": {},
   "outputs": [
    {
     "output_type": "execute_result",
     "data": {
      "text/plain": [
       "     index   Rk                              Player Pos  Age   Tm    FG%  \\\n",
       "0        0    1          Precious Achiuwa\\achiupr01   C   22  TOR  0.386   \n",
       "1        2    3               Bam Adebayo\\adebaba01   C   24  MIA  0.519   \n",
       "2        3    4              Santi Aldama\\aldamsa01  PF   21  MEM  0.364   \n",
       "3        4    5         LaMarcus Aldridge\\aldrila01   C   36  BRK  0.573   \n",
       "4        5    6  Nickeil Alexander-Walker\\alexani01  SG   23  NOP  0.366   \n",
       "..     ...  ...                                 ...  ..  ...  ...    ...   \n",
       "437    477  478        McKinley Wright IV\\wrighmc01  PG   23  MIN  1.000   \n",
       "438    478  479            Thaddeus Young\\youngth01  PF   33  SAS  0.566   \n",
       "439    479  480                Trae Young\\youngtr01  PG   23  ATL  0.461   \n",
       "440    480  481            Omer Yurtseven\\yurtsom01   C   23  MIA  0.521   \n",
       "441    481  482               Cody Zeller\\zelleco01   C   29  POR  0.566   \n",
       "\n",
       "       3P%   TRB  AST  STL  BLK  TOV   PTS  All Star %  \n",
       "0    0.269   8.2  1.6  0.5  0.6  1.1   8.0        0.01  \n",
       "1    0.000  10.2  3.2  1.1  0.3  2.9  18.7        0.16  \n",
       "2    0.111   2.6  0.8  0.1  0.2  0.3   3.6        0.03  \n",
       "3    0.367   5.7  0.9  0.4  1.2  0.8  14.0        0.11  \n",
       "4    0.310   3.9  2.6  1.0  0.4  1.5  13.5        0.00  \n",
       "..     ...   ...  ...  ...  ...  ...   ...         ...  \n",
       "437  1.000   0.0  0.0  0.0  0.0  1.0   3.0        0.16  \n",
       "438  0.000   3.4  2.5  0.9  0.3  1.0   6.2        0.04  \n",
       "439  0.383   4.1  9.3  1.0  0.1  4.1  27.0        0.62  \n",
       "440  0.000   2.1  0.5  0.1  0.5  0.4   3.1        0.07  \n",
       "441  0.000   4.6  0.8  0.3  0.3  0.7   5.1        0.03  \n",
       "\n",
       "[442 rows x 15 columns]"
      ],
      "text/html": "<div>\n<style scoped>\n    .dataframe tbody tr th:only-of-type {\n        vertical-align: middle;\n    }\n\n    .dataframe tbody tr th {\n        vertical-align: top;\n    }\n\n    .dataframe thead th {\n        text-align: right;\n    }\n</style>\n<table border=\"1\" class=\"dataframe\">\n  <thead>\n    <tr style=\"text-align: right;\">\n      <th></th>\n      <th>index</th>\n      <th>Rk</th>\n      <th>Player</th>\n      <th>Pos</th>\n      <th>Age</th>\n      <th>Tm</th>\n      <th>FG%</th>\n      <th>3P%</th>\n      <th>TRB</th>\n      <th>AST</th>\n      <th>STL</th>\n      <th>BLK</th>\n      <th>TOV</th>\n      <th>PTS</th>\n      <th>All Star %</th>\n    </tr>\n  </thead>\n  <tbody>\n    <tr>\n      <th>0</th>\n      <td>0</td>\n      <td>1</td>\n      <td>Precious Achiuwa\\achiupr01</td>\n      <td>C</td>\n      <td>22</td>\n      <td>TOR</td>\n      <td>0.386</td>\n      <td>0.269</td>\n      <td>8.2</td>\n      <td>1.6</td>\n      <td>0.5</td>\n      <td>0.6</td>\n      <td>1.1</td>\n      <td>8.0</td>\n      <td>0.01</td>\n    </tr>\n    <tr>\n      <th>1</th>\n      <td>2</td>\n      <td>3</td>\n      <td>Bam Adebayo\\adebaba01</td>\n      <td>C</td>\n      <td>24</td>\n      <td>MIA</td>\n      <td>0.519</td>\n      <td>0.000</td>\n      <td>10.2</td>\n      <td>3.2</td>\n      <td>1.1</td>\n      <td>0.3</td>\n      <td>2.9</td>\n      <td>18.7</td>\n      <td>0.16</td>\n    </tr>\n    <tr>\n      <th>2</th>\n      <td>3</td>\n      <td>4</td>\n      <td>Santi Aldama\\aldamsa01</td>\n      <td>PF</td>\n      <td>21</td>\n      <td>MEM</td>\n      <td>0.364</td>\n      <td>0.111</td>\n      <td>2.6</td>\n      <td>0.8</td>\n      <td>0.1</td>\n      <td>0.2</td>\n      <td>0.3</td>\n      <td>3.6</td>\n      <td>0.03</td>\n    </tr>\n    <tr>\n      <th>3</th>\n      <td>4</td>\n      <td>5</td>\n      <td>LaMarcus Aldridge\\aldrila01</td>\n      <td>C</td>\n      <td>36</td>\n      <td>BRK</td>\n      <td>0.573</td>\n      <td>0.367</td>\n      <td>5.7</td>\n      <td>0.9</td>\n      <td>0.4</td>\n      <td>1.2</td>\n      <td>0.8</td>\n      <td>14.0</td>\n      <td>0.11</td>\n    </tr>\n    <tr>\n      <th>4</th>\n      <td>5</td>\n      <td>6</td>\n      <td>Nickeil Alexander-Walker\\alexani01</td>\n      <td>SG</td>\n      <td>23</td>\n      <td>NOP</td>\n      <td>0.366</td>\n      <td>0.310</td>\n      <td>3.9</td>\n      <td>2.6</td>\n      <td>1.0</td>\n      <td>0.4</td>\n      <td>1.5</td>\n      <td>13.5</td>\n      <td>0.00</td>\n    </tr>\n    <tr>\n      <th>...</th>\n      <td>...</td>\n      <td>...</td>\n      <td>...</td>\n      <td>...</td>\n      <td>...</td>\n      <td>...</td>\n      <td>...</td>\n      <td>...</td>\n      <td>...</td>\n      <td>...</td>\n      <td>...</td>\n      <td>...</td>\n      <td>...</td>\n      <td>...</td>\n      <td>...</td>\n    </tr>\n    <tr>\n      <th>437</th>\n      <td>477</td>\n      <td>478</td>\n      <td>McKinley Wright IV\\wrighmc01</td>\n      <td>PG</td>\n      <td>23</td>\n      <td>MIN</td>\n      <td>1.000</td>\n      <td>1.000</td>\n      <td>0.0</td>\n      <td>0.0</td>\n      <td>0.0</td>\n      <td>0.0</td>\n      <td>1.0</td>\n      <td>3.0</td>\n      <td>0.16</td>\n    </tr>\n    <tr>\n      <th>438</th>\n      <td>478</td>\n      <td>479</td>\n      <td>Thaddeus Young\\youngth01</td>\n      <td>PF</td>\n      <td>33</td>\n      <td>SAS</td>\n      <td>0.566</td>\n      <td>0.000</td>\n      <td>3.4</td>\n      <td>2.5</td>\n      <td>0.9</td>\n      <td>0.3</td>\n      <td>1.0</td>\n      <td>6.2</td>\n      <td>0.04</td>\n    </tr>\n    <tr>\n      <th>439</th>\n      <td>479</td>\n      <td>480</td>\n      <td>Trae Young\\youngtr01</td>\n      <td>PG</td>\n      <td>23</td>\n      <td>ATL</td>\n      <td>0.461</td>\n      <td>0.383</td>\n      <td>4.1</td>\n      <td>9.3</td>\n      <td>1.0</td>\n      <td>0.1</td>\n      <td>4.1</td>\n      <td>27.0</td>\n      <td>0.62</td>\n    </tr>\n    <tr>\n      <th>440</th>\n      <td>480</td>\n      <td>481</td>\n      <td>Omer Yurtseven\\yurtsom01</td>\n      <td>C</td>\n      <td>23</td>\n      <td>MIA</td>\n      <td>0.521</td>\n      <td>0.000</td>\n      <td>2.1</td>\n      <td>0.5</td>\n      <td>0.1</td>\n      <td>0.5</td>\n      <td>0.4</td>\n      <td>3.1</td>\n      <td>0.07</td>\n    </tr>\n    <tr>\n      <th>441</th>\n      <td>481</td>\n      <td>482</td>\n      <td>Cody Zeller\\zelleco01</td>\n      <td>C</td>\n      <td>29</td>\n      <td>POR</td>\n      <td>0.566</td>\n      <td>0.000</td>\n      <td>4.6</td>\n      <td>0.8</td>\n      <td>0.3</td>\n      <td>0.3</td>\n      <td>0.7</td>\n      <td>5.1</td>\n      <td>0.03</td>\n    </tr>\n  </tbody>\n</table>\n<p>442 rows × 15 columns</p>\n</div>"
     },
     "metadata": {},
     "execution_count": 196
    }
   ],
   "source": []
  },
  {
   "cell_type": "code",
   "execution_count": null,
   "metadata": {},
   "outputs": [],
   "source": []
  }
 ],
 "metadata": {
  "kernelspec": {
   "name": "python3",
   "display_name": "Python 3.9.7 64-bit",
   "metadata": {
    "interpreter": {
     "hash": "b8bdd4e700647ba2b08c59e5df8b7da1dcf50a218bcd4c1bcd9b3dc92e8788e5"
    }
   }
  },
  "language_info": {
   "codemirror_mode": {
    "name": "ipython",
    "version": 3
   },
   "file_extension": ".py",
   "mimetype": "text/x-python",
   "name": "python",
   "nbconvert_exporter": "python",
   "pygments_lexer": "ipython3",
   "version": "3.9.7-final"
  }
 },
 "nbformat": 4,
 "nbformat_minor": 5
}