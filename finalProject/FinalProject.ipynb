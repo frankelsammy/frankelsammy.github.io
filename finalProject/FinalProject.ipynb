{
 "cells": [
  {
   "cell_type": "markdown",
   "id": "productive-contact",
   "metadata": {},
   "source": [
    "## What Does It Take To Be an NBA All-Star? \n",
    "## A Data Science Analysis\n",
    "## Samuel Frankel"
   ]
  },
  {
   "cell_type": "markdown",
   "id": "broken-summer",
   "metadata": {},
   "source": [
    "Ever since 1951, the NBA All-Star game has occurred annually. Twenty-four of the best players in the NBA are selected, by a mix of fan voting and head coaches, to compete in this prestigious game. (There can end up being more than 24, due to injuries). Each year, as the teams are announced, there is an abundance of discussion regarding the choices. Why did this player make it over this player? Why was this player chosen? I think that if we can look at the analytics behind which players are selected and which are left out, we can better understand the process, as well as make predictions on who will make it before the teams are announced. "
   ]
  },
  {
   "cell_type": "markdown",
   "id": "affected-field",
   "metadata": {},
   "source": [
    "## Step 1: Getting the data"
   ]
  },
  {
   "cell_type": "code",
   "execution_count": 1,
   "id": "generic-chuck",
   "metadata": {},
   "outputs": [],
   "source": [
    "import pandas as pd\n",
    "import re"
   ]
  },
  {
   "cell_type": "code",
   "execution_count": 2,
   "id": "uniform-winter",
   "metadata": {},
   "outputs": [],
   "source": [
    "#Function that drops players who averaged less than 10 ppg\n",
    "def drop_under_10(data):\n",
    "    for i,r in data.iterrows():\n",
    "        if (r['PTS'] < 10.0):\n",
    "            data = data.drop(i)\n",
    "    return data\n",
    "\n",
    "data = pd.read_csv('NBA10.csv', sep=',')\n",
    "data['Year'] = 2010\n",
    "data = drop_under_10(data)\n",
    "\n",
    "data2 = pd.read_csv('NBA11.csv', sep=',')\n",
    "data2['Year'] = 2011\n",
    "data2 = drop_under_10(data2)\n",
    "data = pd.concat([data,data2])\n",
    "\n",
    "data2 = pd.read_csv('NBA12.csv', sep=',')\n",
    "data2['Year'] = 2012\n",
    "data2 = drop_under_10(data2)\n",
    "data = pd.concat([data,data2])\n",
    "\n",
    "data2 = pd.read_csv('NBA13.csv', sep=',')\n",
    "data2['Year'] = 2013\n",
    "data2 = drop_under_10(data2)\n",
    "data = pd.concat([data,data2])\n",
    "\n",
    "data2 = pd.read_csv('NBA14.csv', sep=',')\n",
    "data2['Year'] = 2014\n",
    "data2 = drop_under_10(data2)\n",
    "data = pd.concat([data,data2])\n",
    "\n",
    "data2 = pd.read_csv('NBA15.csv', sep=',')\n",
    "data2['Year'] = 2015\n",
    "data2 = drop_under_10(data2)\n",
    "data = pd.concat([data,data2])\n",
    "\n",
    "data2 = pd.read_csv('NBA16.csv', sep=',')\n",
    "data2['Year'] = 2016\n",
    "data2 = drop_under_10(data2)\n",
    "data = pd.concat([data,data2])\n",
    "\n",
    "data2 = pd.read_csv('NBA17.csv', sep=',')\n",
    "data2['Year'] = 2017\n",
    "data2 = drop_under_10(data2)\n",
    "data = pd.concat([data,data2])\n",
    "\n",
    "data2 = pd.read_csv('NBA18.csv', sep=',')\n",
    "data2['Year'] = 2018\n",
    "data2 = drop_under_10(data2)\n",
    "data = pd.concat([data,data2])\n",
    "\n",
    "data2 = pd.read_csv('NBA19.csv', sep=',')\n",
    "data2['Year'] = 2019\n",
    "data2 = drop_under_10(data2)\n",
    "data = pd.concat([data,data2])\n",
    "\n",
    "data2 = pd.read_csv('NBA20.csv', sep=',')\n",
    "data2['Year'] = 2020\n",
    "data2 = drop_under_10(data2)\n",
    "data = pd.concat([data,data2])\n",
    "\n",
    "data = data.reset_index(drop=True)"
   ]
  },
  {
   "cell_type": "code",
   "execution_count": 4,
   "id": "younger-rwanda",
   "metadata": {},
   "outputs": [],
   "source": [
    "#https://basketball.realgm.com/nba/allstar/game/rosters/2011\n",
    "allstars = pd.read_csv('AllStars10.csv', sep=',')\n",
    "allstars['Year'] = 2010 \n",
    "\n",
    "allstars2 = pd.read_csv('AllStars11.csv', sep=',')\n",
    "allstars2['Year'] = 2011\n",
    "allstars = pd.concat([allstars, allstars2])\n",
    "\n",
    "allstars2 = pd.read_csv('AllStars12.csv', sep=',')\n",
    "allstars2['Year'] = 2012\n",
    "allstars = pd.concat([allstars, allstars2])\n",
    "\n",
    "allstars2 = pd.read_csv('AllStars13.csv', sep=',')\n",
    "allstars2['Year'] = 2013\n",
    "allstars = pd.concat([allstars, allstars2])\n",
    "\n",
    "allstars2 = pd.read_csv('AllStars14.csv', sep=',')\n",
    "allstars2['Year'] = 2014\n",
    "allstars = pd.concat([allstars, allstars2])\n",
    "\n",
    "allstars2 = pd.read_csv('AllStars15.csv', sep=',')\n",
    "allstars2['Year'] = 2015\n",
    "allstars = pd.concat([allstars, allstars2])\n",
    "\n",
    "allstars2 = pd.read_csv('AllStars16.csv', sep=',')\n",
    "allstars2['Year'] = 2016\n",
    "allstars = pd.concat([allstars, allstars2])\n",
    "\n",
    "allstars2 = pd.read_csv('AllStars17.csv', sep=',')\n",
    "allstars2['Year'] = 2017\n",
    "allstars = pd.concat([allstars, allstars2])\n",
    "\n",
    "allstars2 = pd.read_csv('AllStars17.csv', sep=',')\n",
    "allstars2['Year'] = 2017\n",
    "allstars = pd.concat([allstars, allstars2])\n",
    "\n",
    "allstars2 = pd.read_csv('AllStars18.csv', sep=',')\n",
    "allstars2['Year'] = 2018\n",
    "allstars = pd.concat([allstars, allstars2])\n",
    "\n",
    "allstars2 = pd.read_csv('AllStars19.csv', sep=',')\n",
    "allstars2['Year'] = 2019\n",
    "allstars = pd.concat([allstars, allstars2])\n",
    "\n",
    "allstars2 = pd.read_csv('AllStars20.csv', sep=',')\n",
    "allstars2['Year'] = 2020\n",
    "allstars = pd.concat([allstars, allstars2])\n"
   ]
  },
  {
   "cell_type": "code",
   "execution_count": 8,
   "id": "5487c58b",
   "metadata": {},
   "outputs": [],
   "source": [
    "data['All Star'] = 0\n",
    "def was_allstar(name, year):\n",
    "    for i, r in allstars.iterrows():\n",
    "        if (r['Player'] in name and year == r['Year']):\n",
    "            return True \n",
    "for i, r in data.iterrows():\n",
    "    if (was_allstar(r['Player'], r['Year'])):\n",
    "        data.at[i, 'All Star'] = 1\n"
   ]
  },
  {
   "cell_type": "code",
   "execution_count": 9,
   "id": "1e1a8e07",
   "metadata": {},
   "outputs": [
    {
     "output_type": "execute_result",
     "data": {
      "text/plain": [
       "     Rk                       Player Pos  Age   Tm   G  GS    MP    FG   FGA  \\\n",
       "0   3.0  LaMarcus Aldridge\\aldrila01  PF   24  POR  78  78  37.5   7.4  15.0   \n",
       "1   6.0         Ray Allen*\\allenra02  SG   34  BOS  80  80  35.2   5.8  12.2   \n",
       "2  14.0    Carmelo Anthony\\anthoca01  SF   25  DEN  69  69  38.2  10.0  21.8   \n",
       "3  16.0     Gilbert Arenas\\arenagi01  PG   28  WAS  32  32  36.5   7.9  19.3   \n",
       "4  17.0       Trevor Ariza\\arizatr01  SF   24  HOU  72  71  36.5   5.5  13.9   \n",
       "\n",
       "   ...  DRB  TRB  AST  STL  BLK  TOV   PF   PTS  Year  All Star  \n",
       "0  ...  5.6  8.0  2.1  0.9  0.6  1.3  3.0  17.9  2010         0  \n",
       "1  ...  2.6  3.2  2.6  0.8  0.3  1.6  2.3  16.3  2010         0  \n",
       "2  ...  4.4  6.6  3.2  1.3  0.4  3.0  3.3  28.2  2010         1  \n",
       "3  ...  3.6  4.2  7.2  1.3  0.3  3.7  3.0  22.6  2010         0  \n",
       "4  ...  4.5  5.6  3.8  1.8  0.6  2.2  2.3  14.9  2010         0  \n",
       "\n",
       "[5 rows x 32 columns]"
      ],
      "text/html": "<div>\n<style scoped>\n    .dataframe tbody tr th:only-of-type {\n        vertical-align: middle;\n    }\n\n    .dataframe tbody tr th {\n        vertical-align: top;\n    }\n\n    .dataframe thead th {\n        text-align: right;\n    }\n</style>\n<table border=\"1\" class=\"dataframe\">\n  <thead>\n    <tr style=\"text-align: right;\">\n      <th></th>\n      <th>Rk</th>\n      <th>Player</th>\n      <th>Pos</th>\n      <th>Age</th>\n      <th>Tm</th>\n      <th>G</th>\n      <th>GS</th>\n      <th>MP</th>\n      <th>FG</th>\n      <th>FGA</th>\n      <th>...</th>\n      <th>DRB</th>\n      <th>TRB</th>\n      <th>AST</th>\n      <th>STL</th>\n      <th>BLK</th>\n      <th>TOV</th>\n      <th>PF</th>\n      <th>PTS</th>\n      <th>Year</th>\n      <th>All Star</th>\n    </tr>\n  </thead>\n  <tbody>\n    <tr>\n      <th>0</th>\n      <td>3.0</td>\n      <td>LaMarcus Aldridge\\aldrila01</td>\n      <td>PF</td>\n      <td>24</td>\n      <td>POR</td>\n      <td>78</td>\n      <td>78</td>\n      <td>37.5</td>\n      <td>7.4</td>\n      <td>15.0</td>\n      <td>...</td>\n      <td>5.6</td>\n      <td>8.0</td>\n      <td>2.1</td>\n      <td>0.9</td>\n      <td>0.6</td>\n      <td>1.3</td>\n      <td>3.0</td>\n      <td>17.9</td>\n      <td>2010</td>\n      <td>0</td>\n    </tr>\n    <tr>\n      <th>1</th>\n      <td>6.0</td>\n      <td>Ray Allen*\\allenra02</td>\n      <td>SG</td>\n      <td>34</td>\n      <td>BOS</td>\n      <td>80</td>\n      <td>80</td>\n      <td>35.2</td>\n      <td>5.8</td>\n      <td>12.2</td>\n      <td>...</td>\n      <td>2.6</td>\n      <td>3.2</td>\n      <td>2.6</td>\n      <td>0.8</td>\n      <td>0.3</td>\n      <td>1.6</td>\n      <td>2.3</td>\n      <td>16.3</td>\n      <td>2010</td>\n      <td>0</td>\n    </tr>\n    <tr>\n      <th>2</th>\n      <td>14.0</td>\n      <td>Carmelo Anthony\\anthoca01</td>\n      <td>SF</td>\n      <td>25</td>\n      <td>DEN</td>\n      <td>69</td>\n      <td>69</td>\n      <td>38.2</td>\n      <td>10.0</td>\n      <td>21.8</td>\n      <td>...</td>\n      <td>4.4</td>\n      <td>6.6</td>\n      <td>3.2</td>\n      <td>1.3</td>\n      <td>0.4</td>\n      <td>3.0</td>\n      <td>3.3</td>\n      <td>28.2</td>\n      <td>2010</td>\n      <td>1</td>\n    </tr>\n    <tr>\n      <th>3</th>\n      <td>16.0</td>\n      <td>Gilbert Arenas\\arenagi01</td>\n      <td>PG</td>\n      <td>28</td>\n      <td>WAS</td>\n      <td>32</td>\n      <td>32</td>\n      <td>36.5</td>\n      <td>7.9</td>\n      <td>19.3</td>\n      <td>...</td>\n      <td>3.6</td>\n      <td>4.2</td>\n      <td>7.2</td>\n      <td>1.3</td>\n      <td>0.3</td>\n      <td>3.7</td>\n      <td>3.0</td>\n      <td>22.6</td>\n      <td>2010</td>\n      <td>0</td>\n    </tr>\n    <tr>\n      <th>4</th>\n      <td>17.0</td>\n      <td>Trevor Ariza\\arizatr01</td>\n      <td>SF</td>\n      <td>24</td>\n      <td>HOU</td>\n      <td>72</td>\n      <td>71</td>\n      <td>36.5</td>\n      <td>5.5</td>\n      <td>13.9</td>\n      <td>...</td>\n      <td>4.5</td>\n      <td>5.6</td>\n      <td>3.8</td>\n      <td>1.8</td>\n      <td>0.6</td>\n      <td>2.2</td>\n      <td>2.3</td>\n      <td>14.9</td>\n      <td>2010</td>\n      <td>0</td>\n    </tr>\n  </tbody>\n</table>\n<p>5 rows × 32 columns</p>\n</div>"
     },
     "metadata": {},
     "execution_count": 9
    }
   ],
   "source": [
    "data.head()"
   ]
  },
  {
   "cell_type": "code",
   "execution_count": 13,
   "id": "4accd3d8",
   "metadata": {},
   "outputs": [],
   "source": [
    "# Cleaning out the names\n",
    "for i, r in data.iterrows():\n",
    "    if re.search(r'\\\\[a-z]', data.at[i, 'Player']):\n",
    "       name = re.split(r'\\\\[a-z]', data.at[i, 'Player'])\n",
    "       data.at[i,'Player'] = name[0] "
   ]
  },
  {
   "cell_type": "code",
   "execution_count": 26,
   "metadata": {},
   "outputs": [],
   "source": [
    "data.to_csv('DataFrame.csv', sep='\\t')"
   ]
  },
  {
   "cell_type": "code",
   "execution_count": 25,
   "metadata": {},
   "outputs": [],
   "source": [
    "data = data.drop(columns=['Pos', 'Rk', 'G', 'GS', 'MP', 'FG', 'FGA', '3P', '3P%', '2P', '2PA', '2P%', '3PA', 'eFG%', 'FT', 'FTA', 'FT%', 'ORB', 'DRB', 'PF'])"
   ]
  },
  {
   "cell_type": "code",
   "execution_count": 24,
   "metadata": {},
   "outputs": [
    {
     "output_type": "execute_result",
     "data": {
      "text/plain": [
       "     Rk             Player Pos  Age   Tm   G  GS    MP    FG   FGA  ...  DRB  \\\n",
       "0   3.0  LaMarcus Aldridge  PF   24  POR  78  78  37.5   7.4  15.0  ...  5.6   \n",
       "1   6.0         Ray Allen*  SG   34  BOS  80  80  35.2   5.8  12.2  ...  2.6   \n",
       "2  14.0    Carmelo Anthony  SF   25  DEN  69  69  38.2  10.0  21.8  ...  4.4   \n",
       "3  16.0     Gilbert Arenas  PG   28  WAS  32  32  36.5   7.9  19.3  ...  3.6   \n",
       "4  17.0       Trevor Ariza  SF   24  HOU  72  71  36.5   5.5  13.9  ...  4.5   \n",
       "\n",
       "   TRB  AST  STL  BLK  TOV   PF   PTS  Year  All Star  \n",
       "0  8.0  2.1  0.9  0.6  1.3  3.0  17.9  2010         0  \n",
       "1  3.2  2.6  0.8  0.3  1.6  2.3  16.3  2010         0  \n",
       "2  6.6  3.2  1.3  0.4  3.0  3.3  28.2  2010         1  \n",
       "3  4.2  7.2  1.3  0.3  3.7  3.0  22.6  2010         0  \n",
       "4  5.6  3.8  1.8  0.6  2.2  2.3  14.9  2010         0  \n",
       "\n",
       "[5 rows x 32 columns]"
      ],
      "text/html": "<div>\n<style scoped>\n    .dataframe tbody tr th:only-of-type {\n        vertical-align: middle;\n    }\n\n    .dataframe tbody tr th {\n        vertical-align: top;\n    }\n\n    .dataframe thead th {\n        text-align: right;\n    }\n</style>\n<table border=\"1\" class=\"dataframe\">\n  <thead>\n    <tr style=\"text-align: right;\">\n      <th></th>\n      <th>Rk</th>\n      <th>Player</th>\n      <th>Pos</th>\n      <th>Age</th>\n      <th>Tm</th>\n      <th>G</th>\n      <th>GS</th>\n      <th>MP</th>\n      <th>FG</th>\n      <th>FGA</th>\n      <th>...</th>\n      <th>DRB</th>\n      <th>TRB</th>\n      <th>AST</th>\n      <th>STL</th>\n      <th>BLK</th>\n      <th>TOV</th>\n      <th>PF</th>\n      <th>PTS</th>\n      <th>Year</th>\n      <th>All Star</th>\n    </tr>\n  </thead>\n  <tbody>\n    <tr>\n      <th>0</th>\n      <td>3.0</td>\n      <td>LaMarcus Aldridge</td>\n      <td>PF</td>\n      <td>24</td>\n      <td>POR</td>\n      <td>78</td>\n      <td>78</td>\n      <td>37.5</td>\n      <td>7.4</td>\n      <td>15.0</td>\n      <td>...</td>\n      <td>5.6</td>\n      <td>8.0</td>\n      <td>2.1</td>\n      <td>0.9</td>\n      <td>0.6</td>\n      <td>1.3</td>\n      <td>3.0</td>\n      <td>17.9</td>\n      <td>2010</td>\n      <td>0</td>\n    </tr>\n    <tr>\n      <th>1</th>\n      <td>6.0</td>\n      <td>Ray Allen*</td>\n      <td>SG</td>\n      <td>34</td>\n      <td>BOS</td>\n      <td>80</td>\n      <td>80</td>\n      <td>35.2</td>\n      <td>5.8</td>\n      <td>12.2</td>\n      <td>...</td>\n      <td>2.6</td>\n      <td>3.2</td>\n      <td>2.6</td>\n      <td>0.8</td>\n      <td>0.3</td>\n      <td>1.6</td>\n      <td>2.3</td>\n      <td>16.3</td>\n      <td>2010</td>\n      <td>0</td>\n    </tr>\n    <tr>\n      <th>2</th>\n      <td>14.0</td>\n      <td>Carmelo Anthony</td>\n      <td>SF</td>\n      <td>25</td>\n      <td>DEN</td>\n      <td>69</td>\n      <td>69</td>\n      <td>38.2</td>\n      <td>10.0</td>\n      <td>21.8</td>\n      <td>...</td>\n      <td>4.4</td>\n      <td>6.6</td>\n      <td>3.2</td>\n      <td>1.3</td>\n      <td>0.4</td>\n      <td>3.0</td>\n      <td>3.3</td>\n      <td>28.2</td>\n      <td>2010</td>\n      <td>1</td>\n    </tr>\n    <tr>\n      <th>3</th>\n      <td>16.0</td>\n      <td>Gilbert Arenas</td>\n      <td>PG</td>\n      <td>28</td>\n      <td>WAS</td>\n      <td>32</td>\n      <td>32</td>\n      <td>36.5</td>\n      <td>7.9</td>\n      <td>19.3</td>\n      <td>...</td>\n      <td>3.6</td>\n      <td>4.2</td>\n      <td>7.2</td>\n      <td>1.3</td>\n      <td>0.3</td>\n      <td>3.7</td>\n      <td>3.0</td>\n      <td>22.6</td>\n      <td>2010</td>\n      <td>0</td>\n    </tr>\n    <tr>\n      <th>4</th>\n      <td>17.0</td>\n      <td>Trevor Ariza</td>\n      <td>SF</td>\n      <td>24</td>\n      <td>HOU</td>\n      <td>72</td>\n      <td>71</td>\n      <td>36.5</td>\n      <td>5.5</td>\n      <td>13.9</td>\n      <td>...</td>\n      <td>4.5</td>\n      <td>5.6</td>\n      <td>3.8</td>\n      <td>1.8</td>\n      <td>0.6</td>\n      <td>2.2</td>\n      <td>2.3</td>\n      <td>14.9</td>\n      <td>2010</td>\n      <td>0</td>\n    </tr>\n  </tbody>\n</table>\n<p>5 rows × 32 columns</p>\n</div>"
     },
     "metadata": {},
     "execution_count": 24
    }
   ],
   "source": []
  },
  {
   "cell_type": "code",
   "execution_count": null,
   "metadata": {},
   "outputs": [],
   "source": []
  }
 ],
 "metadata": {
  "kernelspec": {
   "name": "python3",
   "display_name": "Python 3.9.7 64-bit",
   "metadata": {
    "interpreter": {
     "hash": "b8bdd4e700647ba2b08c59e5df8b7da1dcf50a218bcd4c1bcd9b3dc92e8788e5"
    }
   }
  },
  "language_info": {
   "codemirror_mode": {
    "name": "ipython",
    "version": 3
   },
   "file_extension": ".py",
   "mimetype": "text/x-python",
   "name": "python",
   "nbconvert_exporter": "python",
   "pygments_lexer": "ipython3",
   "version": "3.9.7-final"
  }
 },
 "nbformat": 4,
 "nbformat_minor": 5
}