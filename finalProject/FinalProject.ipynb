{
 "cells": [
  {
   "cell_type": "markdown",
   "id": "productive-contact",
   "metadata": {},
   "source": [
    "## What Does It Take To Be an NBA All-Star? \n",
    "## A Data Science Analysis\n",
    "## Samuel Frankel"
   ]
  },
  {
   "cell_type": "markdown",
   "id": "broken-summer",
   "metadata": {},
   "source": [
    "Ever since 1951, the NBA All-Star game has occurred annually. Twenty-four of the best players in the NBA are selected, by a mix of fan voting and head coaches, to compete in this prestigious game. (There can end up being more than 24, due to injuries). Each year, as the teams are announced, there is an abundance of discussion regarding the choices. Why did this player make it over this player? Why was this player chosen? I think that if we can look at the analytics behind which players are selected and which are left out, we can better understand the process, as well as make predictions on who will make it before the teams are announced. "
   ]
  },
  {
   "cell_type": "markdown",
   "id": "affected-field",
   "metadata": {},
   "source": [
    "## Step 1: Getting the data"
   ]
  },
  {
   "cell_type": "code",
   "execution_count": 6,
   "id": "generic-chuck",
   "metadata": {},
   "outputs": [],
   "source": [
    "import pandas as pd\n",
    "import re\n",
    "import statsmodels.api as sm\n",
    "import statsmodels.formula.api as smf\n",
    "from sklearn.linear_model import LinearRegression\n"
   ]
  },
  {
   "cell_type": "code",
   "execution_count": 7,
   "id": "uniform-winter",
   "metadata": {},
   "outputs": [],
   "source": [
    "#Function that drops players who averaged less than 10 ppg\n",
    "def drop_under_10(data):\n",
    "    for i,r in data.iterrows():\n",
    "        if (r['PTS'] < 10.0):\n",
    "            data = data.drop(i)\n",
    "    return data\n",
    "\n",
    "data = pd.read_csv('NBA10.csv', sep=',')\n",
    "data['Year'] = 2010\n",
    "data = drop_under_10(data)\n",
    "\n",
    "data2 = pd.read_csv('NBA11.csv', sep=',')\n",
    "data2['Year'] = 2011\n",
    "data2 = drop_under_10(data2)\n",
    "data = pd.concat([data,data2])\n",
    "\n",
    "data2 = pd.read_csv('NBA12.csv', sep=',')\n",
    "data2['Year'] = 2012\n",
    "data2 = drop_under_10(data2)\n",
    "data = pd.concat([data,data2])\n",
    "\n",
    "data2 = pd.read_csv('NBA13.csv', sep=',')\n",
    "data2['Year'] = 2013\n",
    "data2 = drop_under_10(data2)\n",
    "data = pd.concat([data,data2])\n",
    "\n",
    "data2 = pd.read_csv('NBA14.csv', sep=',')\n",
    "data2['Year'] = 2014\n",
    "data2 = drop_under_10(data2)\n",
    "data = pd.concat([data,data2])\n",
    "\n",
    "data2 = pd.read_csv('NBA15.csv', sep=',')\n",
    "data2['Year'] = 2015\n",
    "data2 = drop_under_10(data2)\n",
    "data = pd.concat([data,data2])\n",
    "\n",
    "data2 = pd.read_csv('NBA16.csv', sep=',')\n",
    "data2['Year'] = 2016\n",
    "data2 = drop_under_10(data2)\n",
    "data = pd.concat([data,data2])\n",
    "\n",
    "data2 = pd.read_csv('NBA17.csv', sep=',')\n",
    "data2['Year'] = 2017\n",
    "data2 = drop_under_10(data2)\n",
    "data = pd.concat([data,data2])\n",
    "\n",
    "data2 = pd.read_csv('NBA18.csv', sep=',')\n",
    "data2['Year'] = 2018\n",
    "data2 = drop_under_10(data2)\n",
    "data = pd.concat([data,data2])\n",
    "\n",
    "data2 = pd.read_csv('NBA19.csv', sep=',')\n",
    "data2['Year'] = 2019\n",
    "data2 = drop_under_10(data2)\n",
    "data = pd.concat([data,data2])\n",
    "\n",
    "data2 = pd.read_csv('NBA20.csv', sep=',')\n",
    "data2['Year'] = 2020\n",
    "data2 = drop_under_10(data2)\n",
    "data = pd.concat([data,data2])\n",
    "\n",
    "data = data.reset_index(drop=True)"
   ]
  },
  {
   "cell_type": "code",
   "execution_count": 8,
   "id": "younger-rwanda",
   "metadata": {},
   "outputs": [],
   "source": [
    "#https://basketball.realgm.com/nba/allstar/game/rosters/2011\n",
    "allstars = pd.read_csv('AllStars10.csv', sep=',')\n",
    "allstars['Year'] = 2010 \n",
    "\n",
    "allstars2 = pd.read_csv('AllStars11.csv', sep=',')\n",
    "allstars2['Year'] = 2011\n",
    "allstars = pd.concat([allstars, allstars2])\n",
    "\n",
    "allstars2 = pd.read_csv('AllStars12.csv', sep=',')\n",
    "allstars2['Year'] = 2012\n",
    "allstars = pd.concat([allstars, allstars2])\n",
    "\n",
    "allstars2 = pd.read_csv('AllStars13.csv', sep=',')\n",
    "allstars2['Year'] = 2013\n",
    "allstars = pd.concat([allstars, allstars2])\n",
    "\n",
    "allstars2 = pd.read_csv('AllStars14.csv', sep=',')\n",
    "allstars2['Year'] = 2014\n",
    "allstars = pd.concat([allstars, allstars2])\n",
    "\n",
    "allstars2 = pd.read_csv('AllStars15.csv', sep=',')\n",
    "allstars2['Year'] = 2015\n",
    "allstars = pd.concat([allstars, allstars2])\n",
    "\n",
    "allstars2 = pd.read_csv('AllStars16.csv', sep=',')\n",
    "allstars2['Year'] = 2016\n",
    "allstars = pd.concat([allstars, allstars2])\n",
    "\n",
    "allstars2 = pd.read_csv('AllStars17.csv', sep=',')\n",
    "allstars2['Year'] = 2017\n",
    "allstars = pd.concat([allstars, allstars2])\n",
    "\n",
    "allstars2 = pd.read_csv('AllStars17.csv', sep=',')\n",
    "allstars2['Year'] = 2017\n",
    "allstars = pd.concat([allstars, allstars2])\n",
    "\n",
    "allstars2 = pd.read_csv('AllStars18.csv', sep=',')\n",
    "allstars2['Year'] = 2018\n",
    "allstars = pd.concat([allstars, allstars2])\n",
    "\n",
    "allstars2 = pd.read_csv('AllStars19.csv', sep=',')\n",
    "allstars2['Year'] = 2019\n",
    "allstars = pd.concat([allstars, allstars2])\n",
    "\n",
    "allstars2 = pd.read_csv('AllStars20.csv', sep=',')\n",
    "allstars2['Year'] = 2020\n",
    "allstars = pd.concat([allstars, allstars2])\n"
   ]
  },
  {
   "cell_type": "code",
   "execution_count": 9,
   "id": "5487c58b",
   "metadata": {},
   "outputs": [],
   "source": [
    "data['All Star'] = 0\n",
    "def was_allstar(name, year):\n",
    "    for i, r in allstars.iterrows():\n",
    "        if (r['Player'] in name and year == r['Year']):\n",
    "            return True \n",
    "for i, r in data.iterrows():\n",
    "    if (was_allstar(r['Player'], r['Year'])):\n",
    "        data.at[i, 'All Star'] = 1\n"
   ]
  },
  {
   "cell_type": "code",
   "execution_count": 11,
   "id": "4accd3d8",
   "metadata": {},
   "outputs": [],
   "source": [
    "# Cleaning out the names\n",
    "for i, r in data.iterrows():\n",
    "    if re.search(r'\\\\[a-z]', data.at[i, 'Player']):\n",
    "       name = re.split(r'\\\\[a-z]', data.at[i, 'Player'])\n",
    "       data.at[i,'Player'] = name[0] "
   ]
  },
  {
   "cell_type": "code",
   "execution_count": 12,
   "metadata": {},
   "outputs": [],
   "source": [
    "data.to_csv('PlayerStats.csv', sep='\\t')"
   ]
  },
  {
   "cell_type": "code",
   "execution_count": 13,
   "metadata": {},
   "outputs": [],
   "source": [
    "data = data.drop(columns=['Pos', 'Rk', 'G', 'GS', 'MP', 'FG', 'FGA', '3P', '3P%', '2P', '2PA', '2P%', '3PA', 'eFG%', 'FT', 'FTA', 'FT%', 'ORB', 'DRB', 'PF'])"
   ]
  },
  {
   "cell_type": "code",
   "execution_count": 14,
   "metadata": {},
   "outputs": [],
   "source": [
    "from sklearn import tree\n",
    "from sklearn.model_selection import train_test_split\n",
    "from sklearn import metrics\n",
    "from sklearn.ensemble import RandomForestClassifier"
   ]
  },
  {
   "cell_type": "code",
   "execution_count": 19,
   "metadata": {},
   "outputs": [
    {
     "output_type": "execute_result",
     "data": {
      "text/plain": [
       "RandomForestClassifier()"
      ]
     },
     "metadata": {},
     "execution_count": 19
    }
   ],
   "source": [
    "model = RandomForestClassifier()\n",
    "inputs = data.drop(columns=['Player','Tm','Year','All Star'])\n",
    "target = data['All Star']\n",
    "X_train, X_test, y_train, y_test = train_test_split(inputs, target, random_state=1, test_size= 0.3)\n",
    "model.fit(X_train,y_train)\n"
   ]
  },
  {
   "cell_type": "code",
   "execution_count": 20,
   "metadata": {},
   "outputs": [],
   "source": [
    "y_pred = model.predict(X_test)"
   ]
  },
  {
   "cell_type": "code",
   "execution_count": 21,
   "metadata": {},
   "outputs": [
    {
     "output_type": "execute_result",
     "data": {
      "text/plain": [
       "0.912621359223301"
      ]
     },
     "metadata": {},
     "execution_count": 21
    }
   ],
   "source": [
    "metrics.accuracy_score(y_test, y_pred)"
   ]
  },
  {
   "cell_type": "code",
   "execution_count": 77,
   "metadata": {},
   "outputs": [
    {
     "output_type": "execute_result",
     "data": {
      "text/plain": [
       "   Rk                       Player Pos  Age   Tm    FG%    3P%   TRB  AST  \\\n",
       "0   1   Precious Achiuwa\\achiupr01   C   22  TOR  0.386  0.269   8.2  1.6   \n",
       "1   2       Steven Adams\\adamsst01   C   28  MEM  0.535    NaN   8.8  2.6   \n",
       "2   3        Bam Adebayo\\adebaba01   C   24  MIA  0.519  0.000  10.2  3.2   \n",
       "3   4       Santi Aldama\\aldamsa01  PF   21  MEM  0.364  0.111   2.6  0.8   \n",
       "4   5  LaMarcus Aldridge\\aldrila01   C   36  BRK  0.573  0.367   5.7  0.9   \n",
       "\n",
       "   STL  BLK  TOV   PTS  All Star %  \n",
       "0  0.5  0.6  1.1   8.0         0.0  \n",
       "1  0.9  0.6  1.8   7.0         0.0  \n",
       "2  1.1  0.3  2.9  18.7         0.0  \n",
       "3  0.1  0.2  0.3   3.6         0.0  \n",
       "4  0.4  1.2  0.8  14.0         0.0  "
      ],
      "text/html": "<div>\n<style scoped>\n    .dataframe tbody tr th:only-of-type {\n        vertical-align: middle;\n    }\n\n    .dataframe tbody tr th {\n        vertical-align: top;\n    }\n\n    .dataframe thead th {\n        text-align: right;\n    }\n</style>\n<table border=\"1\" class=\"dataframe\">\n  <thead>\n    <tr style=\"text-align: right;\">\n      <th></th>\n      <th>Rk</th>\n      <th>Player</th>\n      <th>Pos</th>\n      <th>Age</th>\n      <th>Tm</th>\n      <th>FG%</th>\n      <th>3P%</th>\n      <th>TRB</th>\n      <th>AST</th>\n      <th>STL</th>\n      <th>BLK</th>\n      <th>TOV</th>\n      <th>PTS</th>\n      <th>All Star %</th>\n    </tr>\n  </thead>\n  <tbody>\n    <tr>\n      <th>0</th>\n      <td>1</td>\n      <td>Precious Achiuwa\\achiupr01</td>\n      <td>C</td>\n      <td>22</td>\n      <td>TOR</td>\n      <td>0.386</td>\n      <td>0.269</td>\n      <td>8.2</td>\n      <td>1.6</td>\n      <td>0.5</td>\n      <td>0.6</td>\n      <td>1.1</td>\n      <td>8.0</td>\n      <td>0.0</td>\n    </tr>\n    <tr>\n      <th>1</th>\n      <td>2</td>\n      <td>Steven Adams\\adamsst01</td>\n      <td>C</td>\n      <td>28</td>\n      <td>MEM</td>\n      <td>0.535</td>\n      <td>NaN</td>\n      <td>8.8</td>\n      <td>2.6</td>\n      <td>0.9</td>\n      <td>0.6</td>\n      <td>1.8</td>\n      <td>7.0</td>\n      <td>0.0</td>\n    </tr>\n    <tr>\n      <th>2</th>\n      <td>3</td>\n      <td>Bam Adebayo\\adebaba01</td>\n      <td>C</td>\n      <td>24</td>\n      <td>MIA</td>\n      <td>0.519</td>\n      <td>0.000</td>\n      <td>10.2</td>\n      <td>3.2</td>\n      <td>1.1</td>\n      <td>0.3</td>\n      <td>2.9</td>\n      <td>18.7</td>\n      <td>0.0</td>\n    </tr>\n    <tr>\n      <th>3</th>\n      <td>4</td>\n      <td>Santi Aldama\\aldamsa01</td>\n      <td>PF</td>\n      <td>21</td>\n      <td>MEM</td>\n      <td>0.364</td>\n      <td>0.111</td>\n      <td>2.6</td>\n      <td>0.8</td>\n      <td>0.1</td>\n      <td>0.2</td>\n      <td>0.3</td>\n      <td>3.6</td>\n      <td>0.0</td>\n    </tr>\n    <tr>\n      <th>4</th>\n      <td>5</td>\n      <td>LaMarcus Aldridge\\aldrila01</td>\n      <td>C</td>\n      <td>36</td>\n      <td>BRK</td>\n      <td>0.573</td>\n      <td>0.367</td>\n      <td>5.7</td>\n      <td>0.9</td>\n      <td>0.4</td>\n      <td>1.2</td>\n      <td>0.8</td>\n      <td>14.0</td>\n      <td>0.0</td>\n    </tr>\n  </tbody>\n</table>\n</div>"
     },
     "metadata": {},
     "execution_count": 77
    }
   ],
   "source": [
    "nba21 = pd.read_csv('NBA21.csv', sep=',')\n",
    "nba21['All Star %'] = 0.0\n",
    "nba21.head()\n"
   ]
  },
  {
   "cell_type": "code",
   "execution_count": 90,
   "metadata": {},
   "outputs": [],
   "source": [
    "nba21 = nba21.dropna()\n",
    "inputs = nba21.drop(columns=['Pos','Rk', 'Player', 'Tm', '3P%', 'All Star %'])\n",
    "inputs = inputs.dropna()"
   ]
  },
  {
   "cell_type": "code",
   "execution_count": 91,
   "metadata": {},
   "outputs": [],
   "source": [
    "probabilities = model.predict_proba(inputs)\n"
   ]
  },
  {
   "cell_type": "code",
   "execution_count": 100,
   "metadata": {},
   "outputs": [],
   "source": [
    "nba21 = nba21.dropna()\n",
    "nba21 = nba21.reset_index()\n",
    "for i,r in nba21.iterrows():\n",
    "    nba21.at[i,'All Star %'] = probabilities[i][1]\n",
    "    if i == 441:\n",
    "        break\n"
   ]
  },
  {
   "cell_type": "code",
   "execution_count": 110,
   "metadata": {},
   "outputs": [],
   "source": [
    "east = ['PHI', 'BRK', 'MIL', 'NYK', 'ATL', 'MIA', 'BOS', 'WAS','IND', 'CHA', 'CHI', 'TOR', 'CLE', 'ORL', 'DET']\n",
    "nba21['Conference'] = ''\n",
    "for i, r in nba21.iterrows():\n",
    "    if r['Tm'] in east:\n",
    "        nba21.at[i,'Conference'] = 'East'\n",
    "    else:\n",
    "        nba21.at[i,'Conference'] = 'West'"
   ]
  },
  {
   "cell_type": "code",
   "execution_count": 113,
   "metadata": {},
   "outputs": [],
   "source": [
    "nba21 = nba21.sort_values(by=['Conference','All Star %'], ascending= False)\n",
    "nba21.to_csv('AllStarPredictions.csv', sep='\\t')"
   ]
  },
  {
   "cell_type": "code",
   "execution_count": null,
   "metadata": {},
   "outputs": [],
   "source": []
  }
 ],
 "metadata": {
  "kernelspec": {
   "name": "python3",
   "display_name": "Python 3.9.7 64-bit",
   "metadata": {
    "interpreter": {
     "hash": "b8bdd4e700647ba2b08c59e5df8b7da1dcf50a218bcd4c1bcd9b3dc92e8788e5"
    }
   }
  },
  "language_info": {
   "codemirror_mode": {
    "name": "ipython",
    "version": 3
   },
   "file_extension": ".py",
   "mimetype": "text/x-python",
   "name": "python",
   "nbconvert_exporter": "python",
   "pygments_lexer": "ipython3",
   "version": "3.9.7-final"
  }
 },
 "nbformat": 4,
 "nbformat_minor": 5
}